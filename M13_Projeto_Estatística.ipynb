{
  "nbformat": 4,
  "nbformat_minor": 0,
  "metadata": {
    "colab": {
      "provenance": []
    },
    "kernelspec": {
      "name": "python3",
      "display_name": "Python 3"
    },
    "language_info": {
      "name": "python"
    }
  },
  "cells": [
    {
      "cell_type": "markdown",
      "source": [
        "# **MÓDULO 13**\n",
        "# Projeto - Fundamentos da Descoberta de Dados"
      ],
      "metadata": {
        "id": "VOTu7U3Mvxzq"
      }
    },
    {
      "cell_type": "markdown",
      "source": [
        "Nesse projeto trabalharemos com a base de dados de produtos de um supermercado do Chile.\n",
        "A ideia é que vocês apliquem os conceitos estatísticos vistos no último módulo, mais os conceitos de visualizações de dados através de gráficos e finalizem publicando no seu github!"
      ],
      "metadata": {
        "id": "-HYgkdAywLd0"
      }
    },
    {
      "cell_type": "code",
      "source": [
        "import pandas as pd\n",
        "import matplotlib.pyplot as plt\n",
        "import plotly.express as px"
      ],
      "metadata": {
        "id": "OTdTnbzUwE2X"
      },
      "execution_count": 12,
      "outputs": []
    },
    {
      "cell_type": "markdown",
      "source": [
        "Faça a leitura dos dados do arquivo CSV:\n",
        "\n",
        "\n",
        "Altere o código abaixo de acordo com seu diretório."
      ],
      "metadata": {
        "id": "ky1Dk_KWywEa"
      }
    },
    {
      "cell_type": "code",
      "source": [
        "df = pd.read_csv(\"MODULO7_PROJETOFINAL_BASE_SUPERMERCADO.csv\")\n",
        "\n",
        "df.head(10)"
      ],
      "metadata": {
        "colab": {
          "base_uri": "https://localhost:8080/",
          "height": 363
        },
        "id": "bRBFyVB5wlny",
        "outputId": "b9e93a6f-0a2d-4354-e205-ee45821fb2ef"
      },
      "execution_count": 14,
      "outputs": [
        {
          "output_type": "execute_result",
          "data": {
            "text/plain": [
              "                                              title       Marca  Preco_Normal  \\\n",
              "0              Pack 12 un, Leche extra proteína 1 L  Loncoleche         19788   \n",
              "1   Pack 12 un, Leche chocolate receta original 1 L     Soprole         18228   \n",
              "2    Pack 12 un, Leche semidescremada chocolate 1 L     Soprole         18228   \n",
              "3     Pack 12 un, Leche semidescremada frutilla 1 L     Soprole         18228   \n",
              "4       Pack 12 un, Leche sin lactosa chocolate 1 L  Loncoleche         17988   \n",
              "5        Pack 12 un, Leche sin lactosa frutilla 1 L  Loncoleche         17988   \n",
              "6  Pack 12 un, Leche saborizada light chocolate 1 L  Loncoleche         17988   \n",
              "7         Pack 12 un, Leche saborizada frutilla 1 L       Colun         17388   \n",
              "8         Pack 12 un, Leche saborizada vainilla 1 L       Colun         17388   \n",
              "9           Pack 12 un, Leche saborizada manjar 1 L       Colun         17388   \n",
              "\n",
              "   Preco_Desconto  Preco_Anterior  Desconto Categoria  \n",
              "0               0               0         0   lacteos  \n",
              "1               0               0         0   lacteos  \n",
              "2               0               0         0   lacteos  \n",
              "3               0               0         0   lacteos  \n",
              "4               0               0         0   lacteos  \n",
              "5               0               0         0   lacteos  \n",
              "6               0               0         0   lacteos  \n",
              "7               0               0         0   lacteos  \n",
              "8               0               0         0   lacteos  \n",
              "9               0               0         0   lacteos  "
            ],
            "text/html": [
              "\n",
              "  <div id=\"df-6ecfe76b-7c41-4dab-8246-be73fa7309e3\" class=\"colab-df-container\">\n",
              "    <div>\n",
              "<style scoped>\n",
              "    .dataframe tbody tr th:only-of-type {\n",
              "        vertical-align: middle;\n",
              "    }\n",
              "\n",
              "    .dataframe tbody tr th {\n",
              "        vertical-align: top;\n",
              "    }\n",
              "\n",
              "    .dataframe thead th {\n",
              "        text-align: right;\n",
              "    }\n",
              "</style>\n",
              "<table border=\"1\" class=\"dataframe\">\n",
              "  <thead>\n",
              "    <tr style=\"text-align: right;\">\n",
              "      <th></th>\n",
              "      <th>title</th>\n",
              "      <th>Marca</th>\n",
              "      <th>Preco_Normal</th>\n",
              "      <th>Preco_Desconto</th>\n",
              "      <th>Preco_Anterior</th>\n",
              "      <th>Desconto</th>\n",
              "      <th>Categoria</th>\n",
              "    </tr>\n",
              "  </thead>\n",
              "  <tbody>\n",
              "    <tr>\n",
              "      <th>0</th>\n",
              "      <td>Pack 12 un, Leche extra proteína 1 L</td>\n",
              "      <td>Loncoleche</td>\n",
              "      <td>19788</td>\n",
              "      <td>0</td>\n",
              "      <td>0</td>\n",
              "      <td>0</td>\n",
              "      <td>lacteos</td>\n",
              "    </tr>\n",
              "    <tr>\n",
              "      <th>1</th>\n",
              "      <td>Pack 12 un, Leche chocolate receta original 1 L</td>\n",
              "      <td>Soprole</td>\n",
              "      <td>18228</td>\n",
              "      <td>0</td>\n",
              "      <td>0</td>\n",
              "      <td>0</td>\n",
              "      <td>lacteos</td>\n",
              "    </tr>\n",
              "    <tr>\n",
              "      <th>2</th>\n",
              "      <td>Pack 12 un, Leche semidescremada chocolate 1 L</td>\n",
              "      <td>Soprole</td>\n",
              "      <td>18228</td>\n",
              "      <td>0</td>\n",
              "      <td>0</td>\n",
              "      <td>0</td>\n",
              "      <td>lacteos</td>\n",
              "    </tr>\n",
              "    <tr>\n",
              "      <th>3</th>\n",
              "      <td>Pack 12 un, Leche semidescremada frutilla 1 L</td>\n",
              "      <td>Soprole</td>\n",
              "      <td>18228</td>\n",
              "      <td>0</td>\n",
              "      <td>0</td>\n",
              "      <td>0</td>\n",
              "      <td>lacteos</td>\n",
              "    </tr>\n",
              "    <tr>\n",
              "      <th>4</th>\n",
              "      <td>Pack 12 un, Leche sin lactosa chocolate 1 L</td>\n",
              "      <td>Loncoleche</td>\n",
              "      <td>17988</td>\n",
              "      <td>0</td>\n",
              "      <td>0</td>\n",
              "      <td>0</td>\n",
              "      <td>lacteos</td>\n",
              "    </tr>\n",
              "    <tr>\n",
              "      <th>5</th>\n",
              "      <td>Pack 12 un, Leche sin lactosa frutilla 1 L</td>\n",
              "      <td>Loncoleche</td>\n",
              "      <td>17988</td>\n",
              "      <td>0</td>\n",
              "      <td>0</td>\n",
              "      <td>0</td>\n",
              "      <td>lacteos</td>\n",
              "    </tr>\n",
              "    <tr>\n",
              "      <th>6</th>\n",
              "      <td>Pack 12 un, Leche saborizada light chocolate 1 L</td>\n",
              "      <td>Loncoleche</td>\n",
              "      <td>17988</td>\n",
              "      <td>0</td>\n",
              "      <td>0</td>\n",
              "      <td>0</td>\n",
              "      <td>lacteos</td>\n",
              "    </tr>\n",
              "    <tr>\n",
              "      <th>7</th>\n",
              "      <td>Pack 12 un, Leche saborizada frutilla 1 L</td>\n",
              "      <td>Colun</td>\n",
              "      <td>17388</td>\n",
              "      <td>0</td>\n",
              "      <td>0</td>\n",
              "      <td>0</td>\n",
              "      <td>lacteos</td>\n",
              "    </tr>\n",
              "    <tr>\n",
              "      <th>8</th>\n",
              "      <td>Pack 12 un, Leche saborizada vainilla 1 L</td>\n",
              "      <td>Colun</td>\n",
              "      <td>17388</td>\n",
              "      <td>0</td>\n",
              "      <td>0</td>\n",
              "      <td>0</td>\n",
              "      <td>lacteos</td>\n",
              "    </tr>\n",
              "    <tr>\n",
              "      <th>9</th>\n",
              "      <td>Pack 12 un, Leche saborizada manjar 1 L</td>\n",
              "      <td>Colun</td>\n",
              "      <td>17388</td>\n",
              "      <td>0</td>\n",
              "      <td>0</td>\n",
              "      <td>0</td>\n",
              "      <td>lacteos</td>\n",
              "    </tr>\n",
              "  </tbody>\n",
              "</table>\n",
              "</div>\n",
              "    <div class=\"colab-df-buttons\">\n",
              "\n",
              "  <div class=\"colab-df-container\">\n",
              "    <button class=\"colab-df-convert\" onclick=\"convertToInteractive('df-6ecfe76b-7c41-4dab-8246-be73fa7309e3')\"\n",
              "            title=\"Convert this dataframe to an interactive table.\"\n",
              "            style=\"display:none;\">\n",
              "\n",
              "  <svg xmlns=\"http://www.w3.org/2000/svg\" height=\"24px\" viewBox=\"0 -960 960 960\">\n",
              "    <path d=\"M120-120v-720h720v720H120Zm60-500h600v-160H180v160Zm220 220h160v-160H400v160Zm0 220h160v-160H400v160ZM180-400h160v-160H180v160Zm440 0h160v-160H620v160ZM180-180h160v-160H180v160Zm440 0h160v-160H620v160Z\"/>\n",
              "  </svg>\n",
              "    </button>\n",
              "\n",
              "  <style>\n",
              "    .colab-df-container {\n",
              "      display:flex;\n",
              "      gap: 12px;\n",
              "    }\n",
              "\n",
              "    .colab-df-convert {\n",
              "      background-color: #E8F0FE;\n",
              "      border: none;\n",
              "      border-radius: 50%;\n",
              "      cursor: pointer;\n",
              "      display: none;\n",
              "      fill: #1967D2;\n",
              "      height: 32px;\n",
              "      padding: 0 0 0 0;\n",
              "      width: 32px;\n",
              "    }\n",
              "\n",
              "    .colab-df-convert:hover {\n",
              "      background-color: #E2EBFA;\n",
              "      box-shadow: 0px 1px 2px rgba(60, 64, 67, 0.3), 0px 1px 3px 1px rgba(60, 64, 67, 0.15);\n",
              "      fill: #174EA6;\n",
              "    }\n",
              "\n",
              "    .colab-df-buttons div {\n",
              "      margin-bottom: 4px;\n",
              "    }\n",
              "\n",
              "    [theme=dark] .colab-df-convert {\n",
              "      background-color: #3B4455;\n",
              "      fill: #D2E3FC;\n",
              "    }\n",
              "\n",
              "    [theme=dark] .colab-df-convert:hover {\n",
              "      background-color: #434B5C;\n",
              "      box-shadow: 0px 1px 3px 1px rgba(0, 0, 0, 0.15);\n",
              "      filter: drop-shadow(0px 1px 2px rgba(0, 0, 0, 0.3));\n",
              "      fill: #FFFFFF;\n",
              "    }\n",
              "  </style>\n",
              "\n",
              "    <script>\n",
              "      const buttonEl =\n",
              "        document.querySelector('#df-6ecfe76b-7c41-4dab-8246-be73fa7309e3 button.colab-df-convert');\n",
              "      buttonEl.style.display =\n",
              "        google.colab.kernel.accessAllowed ? 'block' : 'none';\n",
              "\n",
              "      async function convertToInteractive(key) {\n",
              "        const element = document.querySelector('#df-6ecfe76b-7c41-4dab-8246-be73fa7309e3');\n",
              "        const dataTable =\n",
              "          await google.colab.kernel.invokeFunction('convertToInteractive',\n",
              "                                                    [key], {});\n",
              "        if (!dataTable) return;\n",
              "\n",
              "        const docLinkHtml = 'Like what you see? Visit the ' +\n",
              "          '<a target=\"_blank\" href=https://colab.research.google.com/notebooks/data_table.ipynb>data table notebook</a>'\n",
              "          + ' to learn more about interactive tables.';\n",
              "        element.innerHTML = '';\n",
              "        dataTable['output_type'] = 'display_data';\n",
              "        await google.colab.output.renderOutput(dataTable, element);\n",
              "        const docLink = document.createElement('div');\n",
              "        docLink.innerHTML = docLinkHtml;\n",
              "        element.appendChild(docLink);\n",
              "      }\n",
              "    </script>\n",
              "  </div>\n",
              "\n",
              "\n",
              "<div id=\"df-4937ff06-0cfd-4118-a063-e7f2e177f4fa\">\n",
              "  <button class=\"colab-df-quickchart\" onclick=\"quickchart('df-4937ff06-0cfd-4118-a063-e7f2e177f4fa')\"\n",
              "            title=\"Suggest charts\"\n",
              "            style=\"display:none;\">\n",
              "\n",
              "<svg xmlns=\"http://www.w3.org/2000/svg\" height=\"24px\"viewBox=\"0 0 24 24\"\n",
              "     width=\"24px\">\n",
              "    <g>\n",
              "        <path d=\"M19 3H5c-1.1 0-2 .9-2 2v14c0 1.1.9 2 2 2h14c1.1 0 2-.9 2-2V5c0-1.1-.9-2-2-2zM9 17H7v-7h2v7zm4 0h-2V7h2v10zm4 0h-2v-4h2v4z\"/>\n",
              "    </g>\n",
              "</svg>\n",
              "  </button>\n",
              "\n",
              "<style>\n",
              "  .colab-df-quickchart {\n",
              "      --bg-color: #E8F0FE;\n",
              "      --fill-color: #1967D2;\n",
              "      --hover-bg-color: #E2EBFA;\n",
              "      --hover-fill-color: #174EA6;\n",
              "      --disabled-fill-color: #AAA;\n",
              "      --disabled-bg-color: #DDD;\n",
              "  }\n",
              "\n",
              "  [theme=dark] .colab-df-quickchart {\n",
              "      --bg-color: #3B4455;\n",
              "      --fill-color: #D2E3FC;\n",
              "      --hover-bg-color: #434B5C;\n",
              "      --hover-fill-color: #FFFFFF;\n",
              "      --disabled-bg-color: #3B4455;\n",
              "      --disabled-fill-color: #666;\n",
              "  }\n",
              "\n",
              "  .colab-df-quickchart {\n",
              "    background-color: var(--bg-color);\n",
              "    border: none;\n",
              "    border-radius: 50%;\n",
              "    cursor: pointer;\n",
              "    display: none;\n",
              "    fill: var(--fill-color);\n",
              "    height: 32px;\n",
              "    padding: 0;\n",
              "    width: 32px;\n",
              "  }\n",
              "\n",
              "  .colab-df-quickchart:hover {\n",
              "    background-color: var(--hover-bg-color);\n",
              "    box-shadow: 0 1px 2px rgba(60, 64, 67, 0.3), 0 1px 3px 1px rgba(60, 64, 67, 0.15);\n",
              "    fill: var(--button-hover-fill-color);\n",
              "  }\n",
              "\n",
              "  .colab-df-quickchart-complete:disabled,\n",
              "  .colab-df-quickchart-complete:disabled:hover {\n",
              "    background-color: var(--disabled-bg-color);\n",
              "    fill: var(--disabled-fill-color);\n",
              "    box-shadow: none;\n",
              "  }\n",
              "\n",
              "  .colab-df-spinner {\n",
              "    border: 2px solid var(--fill-color);\n",
              "    border-color: transparent;\n",
              "    border-bottom-color: var(--fill-color);\n",
              "    animation:\n",
              "      spin 1s steps(1) infinite;\n",
              "  }\n",
              "\n",
              "  @keyframes spin {\n",
              "    0% {\n",
              "      border-color: transparent;\n",
              "      border-bottom-color: var(--fill-color);\n",
              "      border-left-color: var(--fill-color);\n",
              "    }\n",
              "    20% {\n",
              "      border-color: transparent;\n",
              "      border-left-color: var(--fill-color);\n",
              "      border-top-color: var(--fill-color);\n",
              "    }\n",
              "    30% {\n",
              "      border-color: transparent;\n",
              "      border-left-color: var(--fill-color);\n",
              "      border-top-color: var(--fill-color);\n",
              "      border-right-color: var(--fill-color);\n",
              "    }\n",
              "    40% {\n",
              "      border-color: transparent;\n",
              "      border-right-color: var(--fill-color);\n",
              "      border-top-color: var(--fill-color);\n",
              "    }\n",
              "    60% {\n",
              "      border-color: transparent;\n",
              "      border-right-color: var(--fill-color);\n",
              "    }\n",
              "    80% {\n",
              "      border-color: transparent;\n",
              "      border-right-color: var(--fill-color);\n",
              "      border-bottom-color: var(--fill-color);\n",
              "    }\n",
              "    90% {\n",
              "      border-color: transparent;\n",
              "      border-bottom-color: var(--fill-color);\n",
              "    }\n",
              "  }\n",
              "</style>\n",
              "\n",
              "  <script>\n",
              "    async function quickchart(key) {\n",
              "      const quickchartButtonEl =\n",
              "        document.querySelector('#' + key + ' button');\n",
              "      quickchartButtonEl.disabled = true;  // To prevent multiple clicks.\n",
              "      quickchartButtonEl.classList.add('colab-df-spinner');\n",
              "      try {\n",
              "        const charts = await google.colab.kernel.invokeFunction(\n",
              "            'suggestCharts', [key], {});\n",
              "      } catch (error) {\n",
              "        console.error('Error during call to suggestCharts:', error);\n",
              "      }\n",
              "      quickchartButtonEl.classList.remove('colab-df-spinner');\n",
              "      quickchartButtonEl.classList.add('colab-df-quickchart-complete');\n",
              "    }\n",
              "    (() => {\n",
              "      let quickchartButtonEl =\n",
              "        document.querySelector('#df-4937ff06-0cfd-4118-a063-e7f2e177f4fa button');\n",
              "      quickchartButtonEl.style.display =\n",
              "        google.colab.kernel.accessAllowed ? 'block' : 'none';\n",
              "    })();\n",
              "  </script>\n",
              "</div>\n",
              "\n",
              "    </div>\n",
              "  </div>\n"
            ],
            "application/vnd.google.colaboratory.intrinsic+json": {
              "type": "dataframe",
              "variable_name": "df",
              "summary": "{\n  \"name\": \"df\",\n  \"rows\": 1107,\n  \"fields\": [\n    {\n      \"column\": \"title\",\n      \"properties\": {\n        \"dtype\": \"string\",\n        \"num_unique_values\": 1065,\n        \"samples\": [\n          \"Pack 12 un, Leche entera 1 L\",\n          \"Yoghurt batido Colun damasco 1 kg\",\n          \"Leche Loncoleche cappucino prote\\u00edna 1 L\"\n        ],\n        \"semantic_type\": \"\",\n        \"description\": \"\"\n      }\n    },\n    {\n      \"column\": \"Marca\",\n      \"properties\": {\n        \"dtype\": \"category\",\n        \"num_unique_values\": 156,\n        \"samples\": [\n          \"Calan\",\n          \"Chiquit\\u00edn\",\n          \"Protex\"\n        ],\n        \"semantic_type\": \"\",\n        \"description\": \"\"\n      }\n    },\n    {\n      \"column\": \"Preco_Normal\",\n      \"properties\": {\n        \"dtype\": \"number\",\n        \"std\": 2961,\n        \"min\": 0,\n        \"max\": 19788,\n        \"num_unique_values\": 361,\n        \"samples\": [\n          2499,\n          6790,\n          10599\n        ],\n        \"semantic_type\": \"\",\n        \"description\": \"\"\n      }\n    },\n    {\n      \"column\": \"Preco_Desconto\",\n      \"properties\": {\n        \"dtype\": \"number\",\n        \"std\": 1339,\n        \"min\": 0,\n        \"max\": 14550,\n        \"num_unique_values\": 101,\n        \"samples\": [\n          3732,\n          4790,\n          1250\n        ],\n        \"semantic_type\": \"\",\n        \"description\": \"\"\n      }\n    },\n    {\n      \"column\": \"Preco_Anterior\",\n      \"properties\": {\n        \"dtype\": \"number\",\n        \"std\": 1239,\n        \"min\": 0,\n        \"max\": 18899,\n        \"num_unique_values\": 64,\n        \"samples\": [\n          5549,\n          5499,\n          0\n        ],\n        \"semantic_type\": \"\",\n        \"description\": \"\"\n      }\n    },\n    {\n      \"column\": \"Desconto\",\n      \"properties\": {\n        \"dtype\": \"number\",\n        \"std\": 241,\n        \"min\": 0,\n        \"max\": 4349,\n        \"num_unique_values\": 68,\n        \"samples\": [\n          693,\n          359,\n          140\n        ],\n        \"semantic_type\": \"\",\n        \"description\": \"\"\n      }\n    },\n    {\n      \"column\": \"Categoria\",\n      \"properties\": {\n        \"dtype\": \"category\",\n        \"num_unique_values\": 7,\n        \"samples\": [\n          \"lacteos\",\n          \"belleza-y-cuidado-personal\",\n          \"verduras\"\n        ],\n        \"semantic_type\": \"\",\n        \"description\": \"\"\n      }\n    }\n  ]\n}"
            }
          },
          "metadata": {},
          "execution_count": 14
        }
      ]
    },
    {
      "cell_type": "markdown",
      "source": [
        "Os campos do nosso dataframe são:\n",
        "\n",
        "**Title:** Nome do produto.\n",
        "\n",
        "\n",
        "**Marca:** A marca do produto.\n",
        "\n",
        "\n",
        "**Preco_Normal:** O preço em que o produto costuma ser vendido quando não há desconto.\n",
        "\n",
        "\n",
        "**Preco_Desconto:** O preço vendido após o desconto ser aplicado.\n",
        "\n",
        "\n",
        "**Preco_Anterior:** Preço em que era comercializado o produto antes do desconto aplicado.\n",
        "\n",
        "\n",
        "**Desconto:** Total de desconto aplicado.\n",
        "\n",
        "\n",
        "\n",
        "\n",
        "\n",
        "\n",
        "As colunas que aparecem com valores 0 são para os produtos onde não tivemos descontos aplicados.\n",
        "\n",
        "\n",
        "As categorias estão em espanhol!"
      ],
      "metadata": {
        "id": "YJgKJ7Nxwtw2"
      }
    },
    {
      "cell_type": "code",
      "source": [
        "pd.set_option('display.width', None)\n",
        "pd.set_option('display.max_colwidth', None)\n",
        "\n",
        "# Utiliza-se 'print(df['Categoria'].dtype)' para descobrir tipo de dado das colunas\n"
      ],
      "metadata": {
        "id": "QK0Hi98ymFTk"
      },
      "execution_count": 15,
      "outputs": []
    },
    {
      "cell_type": "markdown",
      "source": [
        "- O dataframe inicialmente possuia alguns dos dados de preços\n",
        "com valor 0 e foram identificados 3 cenários. Por não ser um\n",
        "valor plausível para a análise de preços, foram realizadas\n",
        "algumas alterações nesses dados zerados:\n",
        "  1. O primeiro cenário apresentavam os dados de Preco_Desconto,\n",
        "  Preco_Anterior e Desconto com valores, porém Preco_Normal\n",
        "  estava atribuído 0. Para contornar esta situação, o\n",
        "  Preco_Normal zerado foi substituído pelo valor de\n",
        "  Preço_Anterior, corrigindo este cenário de maneira precisa.\n",
        "  2. Para o segundo cenário, todos os campos citados acima\n",
        "  estavam com valor 0 atribuídos a eles. Como solução, foi\n",
        "  implementada uma inserção de preços baseado nas médias de\n",
        "  preço de cada categoria e atualizadas no campo Preco_Normal.\n",
        "  3. Por fim, no último cenário, dos quatro mesmos campos\n",
        "  citados anteriormente, apenas o valor de Preco_Desconto\n",
        "  apresenta-se preenchido com valores, indicando que havia\n",
        "  algum desconto atribuído àquele produto. Para solucionar este\n",
        "  problema, o campo Desconto zerado foi preenchido com a média\n",
        "  de descontos por Categoria. Em seguida, a soma dos dois campos\n",
        "  resultou no valor original do produto, e assim foi inserido\n",
        "  seu total no Preco_Normal também zerado."
      ],
      "metadata": {
        "id": "bVcjd5fLmzOA"
      }
    },
    {
      "cell_type": "code",
      "source": [
        "# Substituindo Preco_Normal = 0 pela média do mesmo por categoria\n",
        "media_preco_vazio = df.groupby('Categoria')['Preco_Normal'].mean().to_dict()  # Utiliza-se 'to_dict()' para tornar os dados legíveis para lambda na linha abaixo\n",
        "df['Preco_Normal'] = df.apply(lambda x: media_preco_vazio[x['Categoria']] if x['Preco_Desconto'] == 0 and x['Preco_Normal'] ==0 else x['Preco_Normal'], axis=1)\n",
        "df['Preco_Normal'] = df['Preco_Normal'].astype(int)\n",
        "\n",
        "# Substituindo Preco_Normal = 0 pela soma da média de Desconto (gerada por categoria) e do Preco_Desconto\n",
        "media_desc_vazio = df.groupby('Categoria')['Desconto'].mean().to_dict()\n",
        "df['Desconto'] = df.apply(lambda x: media_desc_vazio[x['Categoria']] if x['Preco_Desconto'] != 0 and x['Preco_Normal'] == 0 else x['Desconto'], axis=1)\n",
        "df['Desconto'] = df['Desconto'].astype(int)\n",
        "df['Preco_Normal'] = df.apply(lambda x: x['Desconto'] + x['Preco_Desconto'] if x['Preco_Normal'] == 0 else x['Preco_Normal'], axis=1)\n",
        "#print(df.iloc[813:].to_string()) - Verificam-se as linhas que apresentavam Preco_Normal = 0\n"
      ],
      "metadata": {
        "id": "y0U6u5eKmbUM"
      },
      "execution_count": 16,
      "outputs": []
    },
    {
      "cell_type": "markdown",
      "source": [
        "# 1 - Traga a média e a mediana dos preços - coluna Preco_Normal - por categoria de produto.\n",
        "# Identifique as categorias que parecem ter um valor de média abaixo ou acima da mediana."
      ],
      "metadata": {
        "id": "4u6WBeyyy6ri"
      }
    },
    {
      "cell_type": "code",
      "source": [
        "# Trazendo a média e a mediana de Preco_Normal por categoria de produto.\n",
        "#Trazendo Média\n",
        "media_preco_categoria = df.groupby('Categoria')['Preco_Normal'].mean().reset_index().sort_values(by= 'Categoria', ascending=False)\n",
        "print('\\n\\nMédias dos preços por categoria de produto:\\n', media_preco_categoria)\n"
      ],
      "metadata": {
        "id": "E7B7FolOzVcJ",
        "colab": {
          "base_uri": "https://localhost:8080/"
        },
        "outputId": "f3018857-75c4-4ca7-e505-7862675466cd"
      },
      "execution_count": 17,
      "outputs": [
        {
          "output_type": "stream",
          "name": "stdout",
          "text": [
            "\n",
            "\n",
            "Médias dos preços por categoria de produto:\n",
            "                     Categoria  Preco_Normal\n",
            "6                    verduras   1448.218750\n",
            "5                     lacteos   2684.174497\n",
            "4        instantaneos-y-sopas    936.789474\n",
            "3                      frutas   1724.473684\n",
            "2                  congelados   3084.353191\n",
            "1          comidas-preparadas   3988.869565\n",
            "0  belleza-y-cuidado-personal   2959.146444\n"
          ]
        }
      ]
    },
    {
      "cell_type": "code",
      "source": [
        "#Trazendo Mediana\n",
        "mediana_preco_categoria = df.groupby('Categoria')['Preco_Normal'].median().reset_index().sort_values(by='Categoria',ascending=False)\n",
        "print('\\nMedianas dos preços por categoria de produto:\\n', mediana_preco_categoria)\n"
      ],
      "metadata": {
        "id": "Rwf4V3hnzZwh",
        "colab": {
          "base_uri": "https://localhost:8080/"
        },
        "outputId": "84edd6a0-c0c6-47d0-aaa3-ddd5980a2e79"
      },
      "execution_count": 18,
      "outputs": [
        {
          "output_type": "stream",
          "name": "stdout",
          "text": [
            "\n",
            "Medianas dos preços por categoria de produto:\n",
            "                     Categoria  Preco_Normal\n",
            "6                    verduras        1321.0\n",
            "5                     lacteos        1606.0\n",
            "4        instantaneos-y-sopas         579.0\n",
            "3                      frutas        1195.0\n",
            "2                  congelados        3059.0\n",
            "1          comidas-preparadas        3590.0\n",
            "0  belleza-y-cuidado-personal        2599.0\n"
          ]
        }
      ]
    },
    {
      "cell_type": "markdown",
      "source": [
        "- Podemos observar em seu output que, Frutas e principalmente os\n",
        "Lácteos possuem médias muito acima das medianas apresentadas,\n",
        "indicando a presença de outliers nos preços, que aumentam\n",
        "significativamente os valores da média dessas categorias.\n",
        "- Já as demais categorias possuem variações não muito distantes,\n",
        "acima dos valores das medianas. Isso indica que não há valores\n",
        "discrepantes e pouca oscilação entre os preços dos produtos de\n",
        "mesma categoria."
      ],
      "metadata": {
        "id": "nKBFOh-mzyWX"
      }
    },
    {
      "cell_type": "markdown",
      "source": [
        "# 2 - Traga o desvio padrão por categoria de produto.\n",
        "# Qual o comportamento da média e mediana nas categorias com maior desvio?"
      ],
      "metadata": {
        "id": "jdHZurzDzca0"
      }
    },
    {
      "cell_type": "code",
      "source": [
        "# Trazendo o desvio padrão por Categoria de produto.\n",
        "desvio_padrao_por_categoria = df.groupby('Categoria')['Preco_Normal'].std().reset_index().sort_values(by='Categoria',ascending=False)\n",
        "print('\\nDesvio Padrão por Categoria de Produto\\n', desvio_padrao_por_categoria)"
      ],
      "metadata": {
        "id": "xEXT1gtoz135",
        "colab": {
          "base_uri": "https://localhost:8080/"
        },
        "outputId": "78e60925-9119-4920-c308-bd6f623198ee"
      },
      "execution_count": 19,
      "outputs": [
        {
          "output_type": "stream",
          "name": "stdout",
          "text": [
            "\n",
            "Desvio Padrão por Categoria de Produto\n",
            "                     Categoria  Preco_Normal\n",
            "6                    verduras    933.363358\n",
            "5                     lacteos   3853.734361\n",
            "4        instantaneos-y-sopas   1079.633912\n",
            "3                      frutas   1639.151114\n",
            "2                  congelados   1735.837131\n",
            "1          comidas-preparadas   1311.572654\n",
            "0  belleza-y-cuidado-personal   2043.226971\n"
          ]
        }
      ]
    },
    {
      "cell_type": "markdown",
      "source": [
        "- Segundo os valores, podemos compreender que apesar de haver\n",
        "um desvio enorme na categoria Lácteos, a categoria Frutas não\n",
        "apresenta desvio exacerbado em comparação à primeira categoria.\n",
        "- Isso pode indicar que, a categoria de Lácteos, além de possuir\n",
        "outliers já indicados na média e mediana, insinua também que\n",
        "estes tem preços extremamente acima dos demais acerca da média,\n",
        "afetando o resultado dela e do próprio desvio, enquanto a\n",
        "categoria Frutas possui uma quantidade não tão alta de preços\n",
        "dispersos.\n",
        "- É importante notar também, que existe um desvio padrão elevado\n",
        "das categorias Beleza/cuidado pessoal e Verduras. Isso pode\n",
        "ocorrer devido à distribuição mais uniforme de preços em torno\n",
        "da média e mediana, indicando que não há outliers e que existe\n",
        "apenas uma faixa mais ampla nos preços em ambas as categorias.\n"
      ],
      "metadata": {
        "id": "HzsLO4nOz3yJ"
      }
    },
    {
      "cell_type": "markdown",
      "source": [
        "# 3 - Plot um boxplot da distribuição do Preco_Normal para a categoria que você identificou que tem o maior desvio padrão. Como é a distribuição desses dados segundo o boxplot? Você identifica muitos outliers?"
      ],
      "metadata": {
        "id": "4aW51rCHBr2w"
      }
    },
    {
      "cell_type": "markdown",
      "source": [
        "Dica: Para trazer apenas os dados da categoria que você deseja você pode usar o df.loc[df['Categoria'] == 'CATEGORIA ESCOLHIDA'"
      ],
      "metadata": {
        "id": "kwPKkUZnEUSb"
      }
    },
    {
      "cell_type": "code",
      "source": [
        "# Boxplot da distribuição do Preco_Normal da categoria com maior desvio padrão.\n",
        "# Separando por categoria específica\n",
        "df_categ = df.loc[df['Categoria'] == 'lacteos']\n",
        "\n",
        "# Plot do Boxplot\n",
        "plt.figure(figsize=(8,6))\n",
        "plt.boxplot(df_categ['Preco_Normal'])\n",
        "plt.title('Distribuição dos Preços - Categoria: Lacteos')\n",
        "plt.ylabel('Preço Normal do Produto')\n",
        "plt.grid(True, linestyle='--', alpha=0.5)\n",
        "plt.show()"
      ],
      "metadata": {
        "id": "_02thblTCKEF",
        "colab": {
          "base_uri": "https://localhost:8080/",
          "height": 545
        },
        "outputId": "b00502a0-f8a4-4a34-e721-f1ec7e8b2c6d"
      },
      "execution_count": 21,
      "outputs": [
        {
          "output_type": "display_data",
          "data": {
            "text/plain": [
              "<Figure size 800x600 with 1 Axes>"
            ],
            "image/png": "[encoded data removed]"
          },
          "metadata": {}
        }
      ]
    },
    {
      "cell_type": "markdown",
      "source": [
        "- A categoria de Lácteos foi selecionada para a análise do\n",
        "Boxplot, pois a mesma apresenta um maior desvio padrão.\n",
        "- A distribuição dos dados está mais concentrada aproximadamente\n",
        "entre os preços 560 e 2640 Pesos Chilenos. Entre estes valores,\n",
        "a mediana do preço desses produtos encontra-se em torno de\n",
        "1600 CLP. Os valores máximo e mínimo que um produto desta\n",
        "categoria pode chegar são, respectivamente, 5719 e 209 CLP.\n",
        "- É possível observar uma quantidade considerável de outliers\n",
        "acima dos demais dados no gráfico, confirmando assim que existem\n",
        "preços muito exacerbados para esta categoria, o que desencadeou\n",
        "na grande alteração da média em relação à mediana e no desvio\n",
        "padrão."
      ],
      "metadata": {
        "id": "adTuJgJdoAhy"
      }
    },
    {
      "cell_type": "markdown",
      "source": [
        "# 4 - Plote um gráfico de barras onde temos a média de descontos por categoria."
      ],
      "metadata": {
        "id": "w5xgQBC_0Hg-"
      }
    },
    {
      "cell_type": "code",
      "source": [
        "# Gráfico de barras da média de descontos por categoria.\n",
        "# Média de descontos\n",
        "df_media_desc = df.groupby('Categoria')['Desconto'].mean().reset_index().sort_values(by= 'Desconto', ascending=False)\n",
        "\n",
        "fig= px.bar(df_media_desc, x = 'Categoria', y = 'Desconto', orientation = 'v', title = 'Média de Descontos por Categoria',\n",
        "        labels={'Categoria':'Tipo de Produto', 'Desconto':'Média de Desconto'})\n",
        "fig.show()"
      ],
      "metadata": {
        "id": "DBj5zAdI0QfI",
        "colab": {
          "base_uri": "https://localhost:8080/",
          "height": 542
        },
        "outputId": "1e8c874b-2fb1-4ecd-9113-2748c2451bca"
      },
      "execution_count": 20,
      "outputs": [
        {
          "output_type": "display_data",
          "data": {
            "text/html": [
              "<html>\n",
              "<head><meta charset=\"utf-8\" /></head>\n",
              "<body>\n",
              "    <div>            <script src=\"https://cdnjs.cloudflare.com/ajax/libs/mathjax/2.7.5/MathJax.js?config=TeX-AMS-MML_SVG\"></script><script type=\"text/javascript\">if (window.MathJax && window.MathJax.Hub && window.MathJax.Hub.Config) {window.MathJax.Hub.Config({SVG: {font: \"STIX-Web\"}});}</script>                <script type=\"text/javascript\">window.PlotlyConfig = {MathJaxConfig: 'local'};</script>\n",
              "        <script charset=\"utf-8\" src=\"https://cdn.plot.ly/plotly-2.35.2.min.js\"></script>                <div id=\"5971d902-e1a6-4086-8958-c6a0feb4c5f4\" class=\"plotly-graph-div\" style=\"height:525px; width:100%;\"></div>            <script type=\"text/javascript\">                                    window.PLOTLYENV=window.PLOTLYENV || {};                                    if (document.getElementById(\"5971d902-e1a6-4086-8958-c6a0feb4c5f4\")) {                    Plotly.newPlot(                        \"5971d902-e1a6-4086-8958-c6a0feb4c5f4\",                        [{\"alignmentgroup\":\"True\",\"hovertemplate\":\"Tipo de Produto=%{x}\\u003cbr\\u003eMédia de Desconto=%{y}\\u003cextra\\u003e\\u003c\\u002fextra\\u003e\",\"legendgroup\":\"\",\"marker\":{\"color\":\"#636efa\",\"pattern\":{\"shape\":\"\"}},\"name\":\"\",\"offsetgroup\":\"\",\"orientation\":\"v\",\"showlegend\":false,\"textposition\":\"auto\",\"x\":[\"congelados\",\"belleza-y-cuidado-personal\",\"comidas-preparadas\",\"lacteos\",\"frutas\",\"instantaneos-y-sopas\",\"verduras\"],\"xaxis\":\"x\",\"y\":[43.251063829787235,42.20083682008368,6.543478260869565,2.7762863534675617,0.0,0.0,0.0],\"yaxis\":\"y\",\"type\":\"bar\"}],                        {\"template\":{\"data\":{\"histogram2dcontour\":[{\"type\":\"histogram2dcontour\",\"colorbar\":{\"outlinewidth\":0,\"ticks\":\"\"},\"colorscale\":[[0.0,\"#0d0887\"],[0.1111111111111111,\"#46039f\"],[0.2222222222222222,\"#7201a8\"],[0.3333333333333333,\"#9c179e\"],[0.4444444444444444,\"#bd3786\"],[0.5555555555555556,\"#d8576b\"],[0.6666666666666666,\"#ed7953\"],[0.7777777777777778,\"#fb9f3a\"],[0.8888888888888888,\"#fdca26\"],[1.0,\"#f0f921\"]]}],\"choropleth\":[{\"type\":\"choropleth\",\"colorbar\":{\"outlinewidth\":0,\"ticks\":\"\"}}],\"histogram2d\":[{\"type\":\"histogram2d\",\"colorbar\":{\"outlinewidth\":0,\"ticks\":\"\"},\"colorscale\":[[0.0,\"#0d0887\"],[0.1111111111111111,\"#46039f\"],[0.2222222222222222,\"#7201a8\"],[0.3333333333333333,\"#9c179e\"],[0.4444444444444444,\"#bd3786\"],[0.5555555555555556,\"#d8576b\"],[0.6666666666666666,\"#ed7953\"],[0.7777777777777778,\"#fb9f3a\"],[0.8888888888888888,\"#fdca26\"],[1.0,\"#f0f921\"]]}],\"heatmap\":[{\"type\":\"heatmap\",\"colorbar\":{\"outlinewidth\":0,\"ticks\":\"\"},\"colorscale\":[[0.0,\"#0d0887\"],[0.1111111111111111,\"#46039f\"],[0.2222222222222222,\"#7201a8\"],[0.3333333333333333,\"#9c179e\"],[0.4444444444444444,\"#bd3786\"],[0.5555555555555556,\"#d8576b\"],[0.6666666666666666,\"#ed7953\"],[0.7777777777777778,\"#fb9f3a\"],[0.8888888888888888,\"#fdca26\"],[1.0,\"#f0f921\"]]}],\"heatmapgl\":[{\"type\":\"heatmapgl\",\"colorbar\":{\"outlinewidth\":0,\"ticks\":\"\"},\"colorscale\":[[0.0,\"#0d0887\"],[0.1111111111111111,\"#46039f\"],[0.2222222222222222,\"#7201a8\"],[0.3333333333333333,\"#9c179e\"],[0.4444444444444444,\"#bd3786\"],[0.5555555555555556,\"#d8576b\"],[0.6666666666666666,\"#ed7953\"],[0.7777777777777778,\"#fb9f3a\"],[0.8888888888888888,\"#fdca26\"],[1.0,\"#f0f921\"]]}],\"contourcarpet\":[{\"type\":\"contourcarpet\",\"colorbar\":{\"outlinewidth\":0,\"ticks\":\"\"}}],\"contour\":[{\"type\":\"contour\",\"colorbar\":{\"outlinewidth\":0,\"ticks\":\"\"},\"colorscale\":[[0.0,\"#0d0887\"],[0.1111111111111111,\"#46039f\"],[0.2222222222222222,\"#7201a8\"],[0.3333333333333333,\"#9c179e\"],[0.4444444444444444,\"#bd3786\"],[0.5555555555555556,\"#d8576b\"],[0.6666666666666666,\"#ed7953\"],[0.7777777777777778,\"#fb9f3a\"],[0.8888888888888888,\"#fdca26\"],[1.0,\"#f0f921\"]]}],\"surface\":[{\"type\":\"surface\",\"colorbar\":{\"outlinewidth\":0,\"ticks\":\"\"},\"colorscale\":[[0.0,\"#0d0887\"],[0.1111111111111111,\"#46039f\"],[0.2222222222222222,\"#7201a8\"],[0.3333333333333333,\"#9c179e\"],[0.4444444444444444,\"#bd3786\"],[0.5555555555555556,\"#d8576b\"],[0.6666666666666666,\"#ed7953\"],[0.7777777777777778,\"#fb9f3a\"],[0.8888888888888888,\"#fdca26\"],[1.0,\"#f0f921\"]]}],\"mesh3d\":[{\"type\":\"mesh3d\",\"colorbar\":{\"outlinewidth\":0,\"ticks\":\"\"}}],\"scatter\":[{\"fillpattern\":{\"fillmode\":\"overlay\",\"size\":10,\"solidity\":0.2},\"type\":\"scatter\"}],\"parcoords\":[{\"type\":\"parcoords\",\"line\":{\"colorbar\":{\"outlinewidth\":0,\"ticks\":\"\"}}}],\"scatterpolargl\":[{\"type\":\"scatterpolargl\",\"marker\":{\"colorbar\":{\"outlinewidth\":0,\"ticks\":\"\"}}}],\"bar\":[{\"error_x\":{\"color\":\"#2a3f5f\"},\"error_y\":{\"color\":\"#2a3f5f\"},\"marker\":{\"line\":{\"color\":\"#E5ECF6\",\"width\":0.5},\"pattern\":{\"fillmode\":\"overlay\",\"size\":10,\"solidity\":0.2}},\"type\":\"bar\"}],\"scattergeo\":[{\"type\":\"scattergeo\",\"marker\":{\"colorbar\":{\"outlinewidth\":0,\"ticks\":\"\"}}}],\"scatterpolar\":[{\"type\":\"scatterpolar\",\"marker\":{\"colorbar\":{\"outlinewidth\":0,\"ticks\":\"\"}}}],\"histogram\":[{\"marker\":{\"pattern\":{\"fillmode\":\"overlay\",\"size\":10,\"solidity\":0.2}},\"type\":\"histogram\"}],\"scattergl\":[{\"type\":\"scattergl\",\"marker\":{\"colorbar\":{\"outlinewidth\":0,\"ticks\":\"\"}}}],\"scatter3d\":[{\"type\":\"scatter3d\",\"line\":{\"colorbar\":{\"outlinewidth\":0,\"ticks\":\"\"}},\"marker\":{\"colorbar\":{\"outlinewidth\":0,\"ticks\":\"\"}}}],\"scattermapbox\":[{\"type\":\"scattermapbox\",\"marker\":{\"colorbar\":{\"outlinewidth\":0,\"ticks\":\"\"}}}],\"scatterternary\":[{\"type\":\"scatterternary\",\"marker\":{\"colorbar\":{\"outlinewidth\":0,\"ticks\":\"\"}}}],\"scattercarpet\":[{\"type\":\"scattercarpet\",\"marker\":{\"colorbar\":{\"outlinewidth\":0,\"ticks\":\"\"}}}],\"carpet\":[{\"aaxis\":{\"endlinecolor\":\"#2a3f5f\",\"gridcolor\":\"white\",\"linecolor\":\"white\",\"minorgridcolor\":\"white\",\"startlinecolor\":\"#2a3f5f\"},\"baxis\":{\"endlinecolor\":\"#2a3f5f\",\"gridcolor\":\"white\",\"linecolor\":\"white\",\"minorgridcolor\":\"white\",\"startlinecolor\":\"#2a3f5f\"},\"type\":\"carpet\"}],\"table\":[{\"cells\":{\"fill\":{\"color\":\"#EBF0F8\"},\"line\":{\"color\":\"white\"}},\"header\":{\"fill\":{\"color\":\"#C8D4E3\"},\"line\":{\"color\":\"white\"}},\"type\":\"table\"}],\"barpolar\":[{\"marker\":{\"line\":{\"color\":\"#E5ECF6\",\"width\":0.5},\"pattern\":{\"fillmode\":\"overlay\",\"size\":10,\"solidity\":0.2}},\"type\":\"barpolar\"}],\"pie\":[{\"automargin\":true,\"type\":\"pie\"}]},\"layout\":{\"autotypenumbers\":\"strict\",\"colorway\":[\"#636efa\",\"#EF553B\",\"#00cc96\",\"#ab63fa\",\"#FFA15A\",\"#19d3f3\",\"#FF6692\",\"#B6E880\",\"#FF97FF\",\"#FECB52\"],\"font\":{\"color\":\"#2a3f5f\"},\"hovermode\":\"closest\",\"hoverlabel\":{\"align\":\"left\"},\"paper_bgcolor\":\"white\",\"plot_bgcolor\":\"#E5ECF6\",\"polar\":{\"bgcolor\":\"#E5ECF6\",\"angularaxis\":{\"gridcolor\":\"white\",\"linecolor\":\"white\",\"ticks\":\"\"},\"radialaxis\":{\"gridcolor\":\"white\",\"linecolor\":\"white\",\"ticks\":\"\"}},\"ternary\":{\"bgcolor\":\"#E5ECF6\",\"aaxis\":{\"gridcolor\":\"white\",\"linecolor\":\"white\",\"ticks\":\"\"},\"baxis\":{\"gridcolor\":\"white\",\"linecolor\":\"white\",\"ticks\":\"\"},\"caxis\":{\"gridcolor\":\"white\",\"linecolor\":\"white\",\"ticks\":\"\"}},\"coloraxis\":{\"colorbar\":{\"outlinewidth\":0,\"ticks\":\"\"}},\"colorscale\":{\"sequential\":[[0.0,\"#0d0887\"],[0.1111111111111111,\"#46039f\"],[0.2222222222222222,\"#7201a8\"],[0.3333333333333333,\"#9c179e\"],[0.4444444444444444,\"#bd3786\"],[0.5555555555555556,\"#d8576b\"],[0.6666666666666666,\"#ed7953\"],[0.7777777777777778,\"#fb9f3a\"],[0.8888888888888888,\"#fdca26\"],[1.0,\"#f0f921\"]],\"sequentialminus\":[[0.0,\"#0d0887\"],[0.1111111111111111,\"#46039f\"],[0.2222222222222222,\"#7201a8\"],[0.3333333333333333,\"#9c179e\"],[0.4444444444444444,\"#bd3786\"],[0.5555555555555556,\"#d8576b\"],[0.6666666666666666,\"#ed7953\"],[0.7777777777777778,\"#fb9f3a\"],[0.8888888888888888,\"#fdca26\"],[1.0,\"#f0f921\"]],\"diverging\":[[0,\"#8e0152\"],[0.1,\"#c51b7d\"],[0.2,\"#de77ae\"],[0.3,\"#f1b6da\"],[0.4,\"#fde0ef\"],[0.5,\"#f7f7f7\"],[0.6,\"#e6f5d0\"],[0.7,\"#b8e186\"],[0.8,\"#7fbc41\"],[0.9,\"#4d9221\"],[1,\"#276419\"]]},\"xaxis\":{\"gridcolor\":\"white\",\"linecolor\":\"white\",\"ticks\":\"\",\"title\":{\"standoff\":15},\"zerolinecolor\":\"white\",\"automargin\":true,\"zerolinewidth\":2},\"yaxis\":{\"gridcolor\":\"white\",\"linecolor\":\"white\",\"ticks\":\"\",\"title\":{\"standoff\":15},\"zerolinecolor\":\"white\",\"automargin\":true,\"zerolinewidth\":2},\"scene\":{\"xaxis\":{\"backgroundcolor\":\"#E5ECF6\",\"gridcolor\":\"white\",\"linecolor\":\"white\",\"showbackground\":true,\"ticks\":\"\",\"zerolinecolor\":\"white\",\"gridwidth\":2},\"yaxis\":{\"backgroundcolor\":\"#E5ECF6\",\"gridcolor\":\"white\",\"linecolor\":\"white\",\"showbackground\":true,\"ticks\":\"\",\"zerolinecolor\":\"white\",\"gridwidth\":2},\"zaxis\":{\"backgroundcolor\":\"#E5ECF6\",\"gridcolor\":\"white\",\"linecolor\":\"white\",\"showbackground\":true,\"ticks\":\"\",\"zerolinecolor\":\"white\",\"gridwidth\":2}},\"shapedefaults\":{\"line\":{\"color\":\"#2a3f5f\"}},\"annotationdefaults\":{\"arrowcolor\":\"#2a3f5f\",\"arrowhead\":0,\"arrowwidth\":1},\"geo\":{\"bgcolor\":\"white\",\"landcolor\":\"#E5ECF6\",\"subunitcolor\":\"white\",\"showland\":true,\"showlakes\":true,\"lakecolor\":\"white\"},\"title\":{\"x\":0.05},\"mapbox\":{\"style\":\"light\"}}},\"xaxis\":{\"anchor\":\"y\",\"domain\":[0.0,1.0],\"title\":{\"text\":\"Tipo de Produto\"}},\"yaxis\":{\"anchor\":\"x\",\"domain\":[0.0,1.0],\"title\":{\"text\":\"Média de Desconto\"}},\"legend\":{\"tracegroupgap\":0},\"title\":{\"text\":\"Média de Descontos por Categoria\"},\"barmode\":\"relative\"},                        {\"responsive\": true}                    ).then(function(){\n",
              "                            \n",
              "var gd = document.getElementById('5971d902-e1a6-4086-8958-c6a0feb4c5f4');\n",
              "var x = new MutationObserver(function (mutations, observer) {{\n",
              "        var display = window.getComputedStyle(gd).display;\n",
              "        if (!display || display === 'none') {{\n",
              "            console.log([gd, 'removed!']);\n",
              "            Plotly.purge(gd);\n",
              "            observer.disconnect();\n",
              "        }}\n",
              "}});\n",
              "\n",
              "// Listen for the removal of the full notebook cells\n",
              "var notebookContainer = gd.closest('#notebook-container');\n",
              "if (notebookContainer) {{\n",
              "    x.observe(notebookContainer, {childList: true});\n",
              "}}\n",
              "\n",
              "// Listen for the clearing of the current output cell\n",
              "var outputEl = gd.closest('.output');\n",
              "if (outputEl) {{\n",
              "    x.observe(outputEl, {childList: true});\n",
              "}}\n",
              "\n",
              "                        })                };                            </script>        </div>\n",
              "</body>\n",
              "</html>"
            ]
          },
          "metadata": {}
        }
      ]
    },
    {
      "cell_type": "markdown",
      "source": [
        "# 5 - Plote um gráfico de mapa interativo agrupando os dados por categoria, marca e trazendo a média de desconto."
      ],
      "metadata": {
        "id": "vqlx0w7E07uC"
      }
    },
    {
      "cell_type": "code",
      "source": [
        "# Gráfico interativo agrupando os dados por categoria, marca e trazendo média de descontos.\n",
        "df_media_desc_categ = df.groupby(['Categoria','Marca'])['Desconto'].mean().reset_index().round(2)\n",
        "\n",
        "fig = px.sunburst(df_media_desc_categ, path=['Categoria', 'Desconto', 'Marca'], values=None, color='Categoria',\n",
        "                  title='Relação entre Marcas, Categoria de Produto e Média de Desconto')\n",
        "fig.show()"
      ],
      "metadata": {
        "id": "D-JWM64Q1NzB",
        "colab": {
          "base_uri": "https://localhost:8080/",
          "height": 542
        },
        "outputId": "42d865fa-7321-47c9-8150-db22e1a4707f"
      },
      "execution_count": 22,
      "outputs": [
        {
          "output_type": "display_data",
          "data": {
            "text/html": [
              "<html>\n",
              "<head><meta charset=\"utf-8\" /></head>\n",
              "<body>\n",
              "    <div>            <script src=\"https://cdnjs.cloudflare.com/ajax/libs/mathjax/2.7.5/MathJax.js?config=TeX-AMS-MML_SVG\"></script><script type=\"text/javascript\">if (window.MathJax && window.MathJax.Hub && window.MathJax.Hub.Config) {window.MathJax.Hub.Config({SVG: {font: \"STIX-Web\"}});}</script>                <script type=\"text/javascript\">window.PlotlyConfig = {MathJaxConfig: 'local'};</script>\n",
              "        <script charset=\"utf-8\" src=\"https://cdn.plot.ly/plotly-2.35.2.min.js\"></script>                <div id=\"5634f0af-c53f-4335-90c1-e92bdc7ff1fe\" class=\"plotly-graph-div\" style=\"height:525px; width:100%;\"></div>            <script type=\"text/javascript\">                                    window.PLOTLYENV=window.PLOTLYENV || {};                                    if (document.getElementById(\"5634f0af-c53f-4335-90c1-e92bdc7ff1fe\")) {                    Plotly.newPlot(                        \"5634f0af-c53f-4335-90c1-e92bdc7ff1fe\",                        [{\"branchvalues\":\"total\",\"customdata\":[[\"lacteos\"],[\"belleza-y-cuidado-personal\"],[\"belleza-y-cuidado-personal\"],[\"lacteos\"],[\"instantaneos-y-sopas\"],[\"lacteos\"],[\"comidas-preparadas\"],[\"congelados\"],[\"lacteos\"],[\"lacteos\"],[\"verduras\"],[\"belleza-y-cuidado-personal\"],[\"belleza-y-cuidado-personal\"],[\"comidas-preparadas\"],[\"belleza-y-cuidado-personal\"],[\"belleza-y-cuidado-personal\"],[\"belleza-y-cuidado-personal\"],[\"belleza-y-cuidado-personal\"],[\"congelados\"],[\"belleza-y-cuidado-personal\"],[\"frutas\"],[\"verduras\"],[\"frutas\"],[\"congelados\"],[\"belleza-y-cuidado-personal\"],[\"belleza-y-cuidado-personal\"],[\"belleza-y-cuidado-personal\"],[\"belleza-y-cuidado-personal\"],[\"lacteos\"],[\"belleza-y-cuidado-personal\"],[\"lacteos\"],[\"lacteos\"],[\"verduras\"],[\"lacteos\"],[\"congelados\"],[\"belleza-y-cuidado-personal\"],[\"belleza-y-cuidado-personal\"],[\"lacteos\"],[\"belleza-y-cuidado-personal\"],[\"belleza-y-cuidado-personal\"],[\"belleza-y-cuidado-personal\"],[\"lacteos\"],[\"belleza-y-cuidado-personal\"],[\"belleza-y-cuidado-personal\"],[\"lacteos\"],[\"instantaneos-y-sopas\"],[\"comidas-preparadas\"],[\"belleza-y-cuidado-personal\"],[\"lacteos\"],[\"lacteos\"],[\"lacteos\"],[\"congelados\"],[\"instantaneos-y-sopas\"],[\"congelados\"],[\"lacteos\"],[\"lacteos\"],[\"belleza-y-cuidado-personal\"],[\"congelados\"],[\"belleza-y-cuidado-personal\"],[\"verduras\"],[\"belleza-y-cuidado-personal\"],[\"lacteos\"],[\"belleza-y-cuidado-personal\"],[\"instantaneos-y-sopas\"],[\"belleza-y-cuidado-personal\"],[\"congelados\"],[\"instantaneos-y-sopas\"],[\"belleza-y-cuidado-personal\"],[\"congelados\"],[\"instantaneos-y-sopas\"],[\"lacteos\"],[\"belleza-y-cuidado-personal\"],[\"instantaneos-y-sopas\"],[\"lacteos\"],[\"lacteos\"],[\"lacteos\"],[\"belleza-y-cuidado-personal\"],[\"belleza-y-cuidado-personal\"],[\"belleza-y-cuidado-personal\"],[\"congelados\"],[\"congelados\"],[\"congelados\"],[\"lacteos\"],[\"congelados\"],[\"congelados\"],[\"lacteos\"],[\"congelados\"],[\"belleza-y-cuidado-personal\"],[\"lacteos\"],[\"comidas-preparadas\"],[\"belleza-y-cuidado-personal\"],[\"belleza-y-cuidado-personal\"],[\"belleza-y-cuidado-personal\"],[\"congelados\"],[\"lacteos\"],[\"belleza-y-cuidado-personal\"],[\"belleza-y-cuidado-personal\"],[\"lacteos\"],[\"lacteos\"],[\"instantaneos-y-sopas\"],[\"lacteos\"],[\"congelados\"],[\"lacteos\"],[\"lacteos\"],[\"lacteos\"],[\"belleza-y-cuidado-personal\"],[\"belleza-y-cuidado-personal\"],[\"comidas-preparadas\"],[\"belleza-y-cuidado-personal\"],[\"belleza-y-cuidado-personal\"],[\"belleza-y-cuidado-personal\"],[\"lacteos\"],[\"congelados\"],[\"belleza-y-cuidado-personal\"],[\"lacteos\"],[\"congelados\"],[\"lacteos\"],[\"belleza-y-cuidado-personal\"],[\"belleza-y-cuidado-personal\"],[\"frutas\"],[\"comidas-preparadas\"],[\"lacteos\"],[\"lacteos\"],[\"belleza-y-cuidado-personal\"],[\"congelados\"],[\"congelados\"],[\"lacteos\"],[\"lacteos\"],[\"lacteos\"],[\"belleza-y-cuidado-personal\"],[\"congelados\"],[\"instantaneos-y-sopas\"],[\"belleza-y-cuidado-personal\"],[\"congelados\"],[\"belleza-y-cuidado-personal\"],[\"belleza-y-cuidado-personal\"],[\"congelados\"],[\"belleza-y-cuidado-personal\"],[\"congelados\"],[\"congelados\"],[\"belleza-y-cuidado-personal\"],[\"lacteos\"],[\"lacteos\"],[\"comidas-preparadas\"],[\"congelados\"],[\"lacteos\"],[\"belleza-y-cuidado-personal\"],[\"belleza-y-cuidado-personal\"],[\"belleza-y-cuidado-personal\"],[\"belleza-y-cuidado-personal\"],[\"belleza-y-cuidado-personal\"],[\"belleza-y-cuidado-personal\"],[\"congelados\"],[\"lacteos\"],[\"congelados\"],[\"congelados\"],[\"lacteos\"],[\"congelados\"],[\"comidas-preparadas\"],[\"instantaneos-y-sopas\"],[\"lacteos\"],[\"lacteos\"],[\"comidas-preparadas\"],[\"lacteos\"],[\"lacteos\"],[\"congelados\"],[\"congelados\"],[\"belleza-y-cuidado-personal\"],[\"comidas-preparadas\"],[\"congelados\"],[\"frutas\"],[\"instantaneos-y-sopas\"],[\"lacteos\"],[\"verduras\"],[\"lacteos\"],[\"lacteos\"],[\"lacteos\"],[\"lacteos\"],[\"lacteos\"],[\"lacteos\"],[\"lacteos\"],[\"lacteos\"],[\"comidas-preparadas\"],[\"lacteos\"],[\"belleza-y-cuidado-personal\"],[\"lacteos\"],[\"lacteos\"],[\"belleza-y-cuidado-personal\"],[\"lacteos\"],[\"comidas-preparadas\"],[\"belleza-y-cuidado-personal\"],[\"congelados\"],[\"belleza-y-cuidado-personal\"],[\"belleza-y-cuidado-personal\"],[\"congelados\"],[\"congelados\"],[\"belleza-y-cuidado-personal\"],[\"belleza-y-cuidado-personal\"],[\"belleza-y-cuidado-personal\"],[\"congelados\"],[\"belleza-y-cuidado-personal\"],[\"congelados\"],[\"belleza-y-cuidado-personal\"],[\"congelados\"],[\"belleza-y-cuidado-personal\"],[\"congelados\"],[\"belleza-y-cuidado-personal\"],[\"belleza-y-cuidado-personal\"],[\"congelados\"],[\"belleza-y-cuidado-personal\"],[\"comidas-preparadas\"],[\"congelados\"],[\"frutas\"],[\"instantaneos-y-sopas\"],[\"lacteos\"],[\"verduras\"]],\"domain\":{\"x\":[0.0,1.0],\"y\":[0.0,1.0]},\"hovertemplate\":\"labels=%{label}\\u003cbr\\u003ecount=%{value}\\u003cbr\\u003eparent=%{parent}\\u003cbr\\u003eid=%{id}\\u003cbr\\u003eCategoria=%{customdata[0]}\\u003cextra\\u003e\\u003c\\u002fextra\\u003e\",\"ids\":[\"lacteos\\u002f17.0\\u002f1+1 Soprole\",\"belleza-y-cuidado-personal\\u002f123.0\\u002fCotidian\",\"belleza-y-cuidado-personal\\u002f0.0\\u002fCotosan\",\"lacteos\\u002f0.0\\u002fCrucina\",\"instantaneos-y-sopas\\u002f0.0\\u002fCuisine & Co\",\"lacteos\\u002f0.77\\u002fCuisine & Co\",\"comidas-preparadas\\u002f6.79\\u002fCuisine & Co\",\"congelados\\u002f39.6\\u002fCuisine & Co\",\"lacteos\\u002f1.89\\u002fDanone\",\"lacteos\\u002f0.0\\u002fDeline\",\"verduras\\u002f0.0\\u002fDole\",\"belleza-y-cuidado-personal\\u002f73.8\\u002fDove\",\"belleza-y-cuidado-personal\\u002f61.5\\u002fDove Men\",\"comidas-preparadas\\u002f0.0\\u002fCorbac\",\"belleza-y-cuidado-personal\\u002f0.0\\u002fDuralón\",\"belleza-y-cuidado-personal\\u002f41.0\\u002fElvive\",\"belleza-y-cuidado-personal\\u002f0.0\\u002fFamiland\",\"belleza-y-cuidado-personal\\u002f0.0\\u002fFamily Care\",\"congelados\\u002f0.0\\u002fFiesta\",\"belleza-y-cuidado-personal\\u002f95.67\\u002fFructis\",\"frutas\\u002f0.0\\u002fFrutas Y Verduras Propias\",\"verduras\\u002f0.0\\u002fFrutas Y Verduras Propias\",\"frutas\\u002f0.0\\u002fFrutas Y Verduras Santa Isabel\",\"congelados\\u002f61.6\\u002fFrutos Del Maipo\",\"belleza-y-cuidado-personal\\u002f0.0\\u002fGarnier\",\"belleza-y-cuidado-personal\\u002f0.0\\u002fGillette\",\"belleza-y-cuidado-personal\\u002f0.0\\u002fGiselle\",\"belleza-y-cuidado-personal\\u002f123.0\\u002fElite\",\"lacteos\\u002f0.0\\u002fCopacabana\",\"belleza-y-cuidado-personal\\u002f0.0\\u002fDento\",\"lacteos\\u002f0.0\\u002fCollico\",\"lacteos\\u002f2.83\\u002fActivia\",\"verduras\\u002f0.0\\u002fAgrosano\",\"lacteos\\u002f2.54\\u002fColun\",\"congelados\\u002f0.0\\u002fAlimentos Shen\",\"belleza-y-cuidado-personal\\u002f30.75\\u002fAlways\",\"belleza-y-cuidado-personal\\u002f82.0\\u002fAquafresh\",\"lacteos\\u002f0.0\\u002fAstra\",\"belleza-y-cuidado-personal\\u002f123.0\\u002fAxe\",\"belleza-y-cuidado-personal\\u002f0.0\\u002fBabyland\",\"belleza-y-cuidado-personal\\u002f10.25\\u002fBallerina\",\"lacteos\\u002f0.0\\u002fBase Culinar\",\"belleza-y-cuidado-personal\\u002f0.0\\u002fBellekiss\",\"belleza-y-cuidado-personal\\u002f123.0\\u002fBiO\",\"lacteos\\u002f0.0\\u002fBonella\",\"instantaneos-y-sopas\\u002f0.0\\u002fAlcafood\",\"comidas-preparadas\\u002f0.0\\u002fBredenmaster\",\"belleza-y-cuidado-personal\\u002f29.29\\u002fColgate\",\"lacteos\\u002f0.0\\u002fCintazul\",\"lacteos\\u002f0.0\\u002fChiquitín\",\"lacteos\\u002f0.0\\u002fChamyto\",\"congelados\\u002f0.0\\u002fBravissimo\",\"instantaneos-y-sopas\\u002f0.0\\u002fCarozzi\",\"congelados\\u002f77.0\\u002fCarte Dor\",\"lacteos\\u002f0.0\\u002fCalo\",\"lacteos\\u002f0.0\\u002fCalan\",\"belleza-y-cuidado-personal\\u002f0.0\\u002fBrooks\",\"congelados\\u002f88.0\\u002fBresler\",\"belleza-y-cuidado-personal\\u002f41.0\\u002fCarefree\",\"verduras\\u002f0.0\\u002fJumbo\",\"belleza-y-cuidado-personal\\u002f0.0\\u002fIlicit\",\"lacteos\\u002f0.0\\u002fIdeal\",\"belleza-y-cuidado-personal\\u002f123.0\\u002fHerbal Essences\",\"instantaneos-y-sopas\\u002f0.0\\u002fHoffmann\",\"belleza-y-cuidado-personal\\u002f0.0\\u002fHead & Shoulders\",\"congelados\\u002f0.0\\u002fGuallarauco\",\"instantaneos-y-sopas\\u002f0.0\\u002fGourmet\",\"belleza-y-cuidado-personal\\u002f0.0\\u002fHerbal\",\"congelados\\u002f0.0\\u002fMister Veggie\",\"instantaneos-y-sopas\\u002f0.0\\u002fMáxima MP\",\"lacteos\\u002f0.0\\u002fMáxima MP\",\"belleza-y-cuidado-personal\\u002f0.0\\u002fNaturella\",\"instantaneos-y-sopas\\u002f0.0\\u002fNaturezza\",\"lacteos\\u002f0.0\\u002fNesquik\",\"lacteos\\u002f4.35\\u002fNestlé\",\"lacteos\\u002f3.4\\u002fNido\",\"belleza-y-cuidado-personal\\u002f51.25\\u002fNivea\",\"belleza-y-cuidado-personal\\u002f123.0\\u002fNivea For Men\",\"belleza-y-cuidado-personal\\u002f22.36\\u002fNosotras\",\"congelados\\u002f154.0\\u002fNot Burger\",\"congelados\\u002f0.0\\u002fNot Chicken\",\"congelados\\u002f23.1\\u002fMinuto Verde\",\"lacteos\\u002f12.75\\u002fNext\",\"congelados\\u002f154.0\\u002fMega\",\"congelados\\u002f154.0\\u002fMagnum\",\"lacteos\\u002f0.0\\u002fMarco Polo\",\"congelados\\u002f0.0\\u002fKing\",\"belleza-y-cuidado-personal\\u002f41.0\\u002fKotex\",\"lacteos\\u002f0.0\\u002fKumey\",\"comidas-preparadas\\u002f0.0\\u002fLa Crianza\",\"belleza-y-cuidado-personal\\u002f41.0\\u002fLady Speed Stick\",\"belleza-y-cuidado-personal\\u002f41.0\\u002fLadysoft\",\"belleza-y-cuidado-personal\\u002f0.0\\u002fLe Sancy\",\"congelados\\u002f0.0\\u002fLa Crianza\",\"lacteos\\u002f11.33\\u002fLight & Free\",\"belleza-y-cuidado-personal\\u002f0.0\\u002fLinic\",\"belleza-y-cuidado-personal\\u002f0.0\\u002fListerine\",\"lacteos\\u002f2.38\\u002fLoncoleche\",\"lacteos\\u002f0.0\\u002fLos Alerces\",\"instantaneos-y-sopas\\u002f0.0\\u002fMaggi\",\"lacteos\\u002f0.0\\u002fLefersa\",\"congelados\\u002f154.0\\u002fNot Ice Cream\",\"lacteos\\u002f17.0\\u002fNot Milk\",\"lacteos\\u002f0.0\\u002fOikos\",\"lacteos\\u002f0.0\\u002fPamperita\",\"belleza-y-cuidado-personal\\u002f0.0\\u002fPlenitud\",\"belleza-y-cuidado-personal\\u002f82.0\\u002fPepsodent\",\"comidas-preparadas\\u002f17.2\\u002fPF\",\"belleza-y-cuidado-personal\\u002f105.43\\u002fPantene\",\"belleza-y-cuidado-personal\\u002f13.67\\u002fOral-B\",\"belleza-y-cuidado-personal\\u002f123.0\\u002fOral Fresh\",\"lacteos\\u002f0.0\\u002fOmega 3\",\"congelados\\u002f0.0\\u002fPF\",\"belleza-y-cuidado-personal\\u002f0.0\\u002fOld Spice\",\"lacteos\\u002f0.0\\u002fShake A Shake Lonco Leche\",\"congelados\\u002f154.0\\u002fSuper Beef\",\"lacteos\\u002f0.0\\u002fSignore Mario\",\"belleza-y-cuidado-personal\\u002f0.0\\u002fSimond'S\",\"belleza-y-cuidado-personal\\u002f123.0\\u002fSimonds\",\"frutas\\u002f0.0\\u002fSofruco\",\"comidas-preparadas\\u002f0.0\\u002fSolo Italia\",\"lacteos\\u002f4.67\\u002fSoprole\",\"lacteos\\u002f0.0\\u002fSoprole Activ\",\"belleza-y-cuidado-personal\\u002f0.0\\u002fSpeed Stick\",\"congelados\\u002f0.0\\u002fRock\",\"congelados\\u002f0.0\\u002fSuper Pollo\",\"lacteos\\u002f8.5\\u002fSureña\",\"lacteos\\u002f0.0\\u002fSurlat\",\"lacteos\\u002f0.0\\u002fSvelty\",\"belleza-y-cuidado-personal\\u002f0.0\\u002fTena\",\"congelados\\u002f0.0\\u002fTivoni\",\"instantaneos-y-sopas\\u002f0.0\\u002fTraverso\",\"belleza-y-cuidado-personal\\u002f0.0\\u002fTrianon\",\"congelados\\u002f0.0\\u002fTurkey Hill\",\"belleza-y-cuidado-personal\\u002f123.0\\u002fTío Nacho\",\"belleza-y-cuidado-personal\\u002f0.0\\u002fSensodyne\",\"congelados\\u002f0.0\\u002fSuper Cerdo\",\"belleza-y-cuidado-personal\\u002f123.0\\u002fSedal\",\"congelados\\u002f0.0\\u002fRikü\",\"congelados\\u002f101.06\\u002fSavory\",\"belleza-y-cuidado-personal\\u002f61.5\\u002fProtex\",\"lacteos\\u002f0.0\\u002fQualy\",\"lacteos\\u002f0.0\\u002fQuillayes\",\"comidas-preparadas\\u002f0.0\\u002fRana\",\"congelados\\u002f0.0\\u002fReceta Del Abuelo\",\"lacteos\\u002f0.0\\u002fRegimel\",\"belleza-y-cuidado-personal\\u002f123.0\\u002fRexona\",\"belleza-y-cuidado-personal\\u002f123.0\\u002fRexona Clinical\",\"belleza-y-cuidado-personal\\u002f123.0\\u002fRexona Men\",\"belleza-y-cuidado-personal\\u002f123.0\\u002fRexona Men Clinical\",\"belleza-y-cuidado-personal\\u002f0.0\\u002fSchick\",\"belleza-y-cuidado-personal\\u002f123.0\\u002fVanart\",\"congelados\\u002f0.0\\u002fSadia\",\"lacteos\\u002f0.0\\u002fSahne Nuss\",\"congelados\\u002f38.5\\u002fSahne Nuss\",\"congelados\\u002f0.0\\u002fSan Francisco De Loncomilla\",\"lacteos\\u002f0.0\\u002fSan Ignacio\",\"congelados\\u002f77.0\\u002fSan Jorge\",\"comidas-preparadas\\u002f0.0\\u002fSanta Isabel\",\"instantaneos-y-sopas\\u002f0.0\\u002fSanta Isabel\",\"lacteos\\u002f0.0\\u002fSanta Isabel\",\"lacteos\\u002f8.5\\u002fSanta Marta\",\"comidas-preparadas\\u002f0.0\\u002fSadia\",\"lacteos\\u002f0.0\\u002fYogu - Yogu\",\"lacteos\\u002f0.0\\u002fZerolacto\",\"congelados\\u002f154.0\\u002fViennetta Bresler\",\"congelados\\u002f0.0\\u002fZole\",\"belleza-y-cuidado-personal\\u002f0.0\",\"comidas-preparadas\\u002f0.0\",\"congelados\\u002f0.0\",\"frutas\\u002f0.0\",\"instantaneos-y-sopas\\u002f0.0\",\"lacteos\\u002f0.0\",\"verduras\\u002f0.0\",\"lacteos\\u002f0.77\",\"lacteos\\u002f1.89\",\"lacteos\\u002f2.38\",\"lacteos\\u002f2.54\",\"lacteos\\u002f2.83\",\"lacteos\\u002f3.4\",\"lacteos\\u002f4.35\",\"lacteos\\u002f4.67\",\"comidas-preparadas\\u002f6.79\",\"lacteos\\u002f8.5\",\"belleza-y-cuidado-personal\\u002f10.25\",\"lacteos\\u002f11.33\",\"lacteos\\u002f12.75\",\"belleza-y-cuidado-personal\\u002f13.67\",\"lacteos\\u002f17.0\",\"comidas-preparadas\\u002f17.2\",\"belleza-y-cuidado-personal\\u002f22.36\",\"congelados\\u002f23.1\",\"belleza-y-cuidado-personal\\u002f29.29\",\"belleza-y-cuidado-personal\\u002f30.75\",\"congelados\\u002f38.5\",\"congelados\\u002f39.6\",\"belleza-y-cuidado-personal\\u002f41.0\",\"belleza-y-cuidado-personal\\u002f51.25\",\"belleza-y-cuidado-personal\\u002f61.5\",\"congelados\\u002f61.6\",\"belleza-y-cuidado-personal\\u002f73.8\",\"congelados\\u002f77.0\",\"belleza-y-cuidado-personal\\u002f82.0\",\"congelados\\u002f88.0\",\"belleza-y-cuidado-personal\\u002f95.67\",\"congelados\\u002f101.06\",\"belleza-y-cuidado-personal\\u002f105.43\",\"belleza-y-cuidado-personal\\u002f123.0\",\"congelados\\u002f154.0\",\"belleza-y-cuidado-personal\",\"comidas-preparadas\",\"congelados\",\"frutas\",\"instantaneos-y-sopas\",\"lacteos\",\"verduras\"],\"labels\":[\"1+1 Soprole\",\"Cotidian\",\"Cotosan\",\"Crucina\",\"Cuisine & Co\",\"Cuisine & Co\",\"Cuisine & Co\",\"Cuisine & Co\",\"Danone\",\"Deline\",\"Dole\",\"Dove\",\"Dove Men\",\"Corbac\",\"Duralón\",\"Elvive\",\"Familand\",\"Family Care\",\"Fiesta\",\"Fructis\",\"Frutas Y Verduras Propias\",\"Frutas Y Verduras Propias\",\"Frutas Y Verduras Santa Isabel\",\"Frutos Del Maipo\",\"Garnier\",\"Gillette\",\"Giselle\",\"Elite\",\"Copacabana\",\"Dento\",\"Collico\",\"Activia\",\"Agrosano\",\"Colun\",\"Alimentos Shen\",\"Always\",\"Aquafresh\",\"Astra\",\"Axe\",\"Babyland\",\"Ballerina\",\"Base Culinar\",\"Bellekiss\",\"BiO\",\"Bonella\",\"Alcafood\",\"Bredenmaster\",\"Colgate\",\"Cintazul\",\"Chiquitín\",\"Chamyto\",\"Bravissimo\",\"Carozzi\",\"Carte Dor\",\"Calo\",\"Calan\",\"Brooks\",\"Bresler\",\"Carefree\",\"Jumbo\",\"Ilicit\",\"Ideal\",\"Herbal Essences\",\"Hoffmann\",\"Head & Shoulders\",\"Guallarauco\",\"Gourmet\",\"Herbal\",\"Mister Veggie\",\"Máxima MP\",\"Máxima MP\",\"Naturella\",\"Naturezza\",\"Nesquik\",\"Nestlé\",\"Nido\",\"Nivea\",\"Nivea For Men\",\"Nosotras\",\"Not Burger\",\"Not Chicken\",\"Minuto Verde\",\"Next\",\"Mega\",\"Magnum\",\"Marco Polo\",\"King\",\"Kotex\",\"Kumey\",\"La Crianza\",\"Lady Speed Stick\",\"Ladysoft\",\"Le Sancy\",\"La Crianza\",\"Light & Free\",\"Linic\",\"Listerine\",\"Loncoleche\",\"Los Alerces\",\"Maggi\",\"Lefersa\",\"Not Ice Cream\",\"Not Milk\",\"Oikos\",\"Pamperita\",\"Plenitud\",\"Pepsodent\",\"PF\",\"Pantene\",\"Oral-B\",\"Oral Fresh\",\"Omega 3\",\"PF\",\"Old Spice\",\"Shake A Shake Lonco Leche\",\"Super Beef\",\"Signore Mario\",\"Simond'S\",\"Simonds\",\"Sofruco\",\"Solo Italia\",\"Soprole\",\"Soprole Activ\",\"Speed Stick\",\"Rock\",\"Super Pollo\",\"Sureña\",\"Surlat\",\"Svelty\",\"Tena\",\"Tivoni\",\"Traverso\",\"Trianon\",\"Turkey Hill\",\"Tío Nacho\",\"Sensodyne\",\"Super Cerdo\",\"Sedal\",\"Rikü\",\"Savory\",\"Protex\",\"Qualy\",\"Quillayes\",\"Rana\",\"Receta Del Abuelo\",\"Regimel\",\"Rexona\",\"Rexona Clinical\",\"Rexona Men\",\"Rexona Men Clinical\",\"Schick\",\"Vanart\",\"Sadia\",\"Sahne Nuss\",\"Sahne Nuss\",\"San Francisco De Loncomilla\",\"San Ignacio\",\"San Jorge\",\"Santa Isabel\",\"Santa Isabel\",\"Santa Isabel\",\"Santa Marta\",\"Sadia\",\"Yogu - Yogu\",\"Zerolacto\",\"Viennetta Bresler\",\"Zole\",\"0.0\",\"0.0\",\"0.0\",\"0.0\",\"0.0\",\"0.0\",\"0.0\",\"0.77\",\"1.89\",\"2.38\",\"2.54\",\"2.83\",\"3.4\",\"4.35\",\"4.67\",\"6.79\",\"8.5\",\"10.25\",\"11.33\",\"12.75\",\"13.67\",\"17.0\",\"17.2\",\"22.36\",\"23.1\",\"29.29\",\"30.75\",\"38.5\",\"39.6\",\"41.0\",\"51.25\",\"61.5\",\"61.6\",\"73.8\",\"77.0\",\"82.0\",\"88.0\",\"95.67\",\"101.06\",\"105.43\",\"123.0\",\"154.0\",\"belleza-y-cuidado-personal\",\"comidas-preparadas\",\"congelados\",\"frutas\",\"instantaneos-y-sopas\",\"lacteos\",\"verduras\"],\"marker\":{\"colors\":[\"#636efa\",\"#EF553B\",\"#EF553B\",\"#636efa\",\"#00cc96\",\"#636efa\",\"#ab63fa\",\"#FFA15A\",\"#636efa\",\"#636efa\",\"#19d3f3\",\"#EF553B\",\"#EF553B\",\"#ab63fa\",\"#EF553B\",\"#EF553B\",\"#EF553B\",\"#EF553B\",\"#FFA15A\",\"#EF553B\",\"#FF6692\",\"#19d3f3\",\"#FF6692\",\"#FFA15A\",\"#EF553B\",\"#EF553B\",\"#EF553B\",\"#EF553B\",\"#636efa\",\"#EF553B\",\"#636efa\",\"#636efa\",\"#19d3f3\",\"#636efa\",\"#FFA15A\",\"#EF553B\",\"#EF553B\",\"#636efa\",\"#EF553B\",\"#EF553B\",\"#EF553B\",\"#636efa\",\"#EF553B\",\"#EF553B\",\"#636efa\",\"#00cc96\",\"#ab63fa\",\"#EF553B\",\"#636efa\",\"#636efa\",\"#636efa\",\"#FFA15A\",\"#00cc96\",\"#FFA15A\",\"#636efa\",\"#636efa\",\"#EF553B\",\"#FFA15A\",\"#EF553B\",\"#19d3f3\",\"#EF553B\",\"#636efa\",\"#EF553B\",\"#00cc96\",\"#EF553B\",\"#FFA15A\",\"#00cc96\",\"#EF553B\",\"#FFA15A\",\"#00cc96\",\"#636efa\",\"#EF553B\",\"#00cc96\",\"#636efa\",\"#636efa\",\"#636efa\",\"#EF553B\",\"#EF553B\",\"#EF553B\",\"#FFA15A\",\"#FFA15A\",\"#FFA15A\",\"#636efa\",\"#FFA15A\",\"#FFA15A\",\"#636efa\",\"#FFA15A\",\"#EF553B\",\"#636efa\",\"#ab63fa\",\"#EF553B\",\"#EF553B\",\"#EF553B\",\"#FFA15A\",\"#636efa\",\"#EF553B\",\"#EF553B\",\"#636efa\",\"#636efa\",\"#00cc96\",\"#636efa\",\"#FFA15A\",\"#636efa\",\"#636efa\",\"#636efa\",\"#EF553B\",\"#EF553B\",\"#ab63fa\",\"#EF553B\",\"#EF553B\",\"#EF553B\",\"#636efa\",\"#FFA15A\",\"#EF553B\",\"#636efa\",\"#FFA15A\",\"#636efa\",\"#EF553B\",\"#EF553B\",\"#FF6692\",\"#ab63fa\",\"#636efa\",\"#636efa\",\"#EF553B\",\"#FFA15A\",\"#FFA15A\",\"#636efa\",\"#636efa\",\"#636efa\",\"#EF553B\",\"#FFA15A\",\"#00cc96\",\"#EF553B\",\"#FFA15A\",\"#EF553B\",\"#EF553B\",\"#FFA15A\",\"#EF553B\",\"#FFA15A\",\"#FFA15A\",\"#EF553B\",\"#636efa\",\"#636efa\",\"#ab63fa\",\"#FFA15A\",\"#636efa\",\"#EF553B\",\"#EF553B\",\"#EF553B\",\"#EF553B\",\"#EF553B\",\"#EF553B\",\"#FFA15A\",\"#636efa\",\"#FFA15A\",\"#FFA15A\",\"#636efa\",\"#FFA15A\",\"#ab63fa\",\"#00cc96\",\"#636efa\",\"#636efa\",\"#ab63fa\",\"#636efa\",\"#636efa\",\"#FFA15A\",\"#FFA15A\",\"#EF553B\",\"#ab63fa\",\"#FFA15A\",\"#FF6692\",\"#00cc96\",\"#636efa\",\"#19d3f3\",\"#636efa\",\"#636efa\",\"#636efa\",\"#636efa\",\"#636efa\",\"#636efa\",\"#636efa\",\"#636efa\",\"#ab63fa\",\"#636efa\",\"#EF553B\",\"#636efa\",\"#636efa\",\"#EF553B\",\"#636efa\",\"#ab63fa\",\"#EF553B\",\"#FFA15A\",\"#EF553B\",\"#EF553B\",\"#FFA15A\",\"#FFA15A\",\"#EF553B\",\"#EF553B\",\"#EF553B\",\"#FFA15A\",\"#EF553B\",\"#FFA15A\",\"#EF553B\",\"#FFA15A\",\"#EF553B\",\"#FFA15A\",\"#EF553B\",\"#EF553B\",\"#FFA15A\",\"#EF553B\",\"#ab63fa\",\"#FFA15A\",\"#FF6692\",\"#00cc96\",\"#636efa\",\"#19d3f3\"]},\"name\":\"\",\"parents\":[\"lacteos\\u002f17.0\",\"belleza-y-cuidado-personal\\u002f123.0\",\"belleza-y-cuidado-personal\\u002f0.0\",\"lacteos\\u002f0.0\",\"instantaneos-y-sopas\\u002f0.0\",\"lacteos\\u002f0.77\",\"comidas-preparadas\\u002f6.79\",\"congelados\\u002f39.6\",\"lacteos\\u002f1.89\",\"lacteos\\u002f0.0\",\"verduras\\u002f0.0\",\"belleza-y-cuidado-personal\\u002f73.8\",\"belleza-y-cuidado-personal\\u002f61.5\",\"comidas-preparadas\\u002f0.0\",\"belleza-y-cuidado-personal\\u002f0.0\",\"belleza-y-cuidado-personal\\u002f41.0\",\"belleza-y-cuidado-personal\\u002f0.0\",\"belleza-y-cuidado-personal\\u002f0.0\",\"congelados\\u002f0.0\",\"belleza-y-cuidado-personal\\u002f95.67\",\"frutas\\u002f0.0\",\"verduras\\u002f0.0\",\"frutas\\u002f0.0\",\"congelados\\u002f61.6\",\"belleza-y-cuidado-personal\\u002f0.0\",\"belleza-y-cuidado-personal\\u002f0.0\",\"belleza-y-cuidado-personal\\u002f0.0\",\"belleza-y-cuidado-personal\\u002f123.0\",\"lacteos\\u002f0.0\",\"belleza-y-cuidado-personal\\u002f0.0\",\"lacteos\\u002f0.0\",\"lacteos\\u002f2.83\",\"verduras\\u002f0.0\",\"lacteos\\u002f2.54\",\"congelados\\u002f0.0\",\"belleza-y-cuidado-personal\\u002f30.75\",\"belleza-y-cuidado-personal\\u002f82.0\",\"lacteos\\u002f0.0\",\"belleza-y-cuidado-personal\\u002f123.0\",\"belleza-y-cuidado-personal\\u002f0.0\",\"belleza-y-cuidado-personal\\u002f10.25\",\"lacteos\\u002f0.0\",\"belleza-y-cuidado-personal\\u002f0.0\",\"belleza-y-cuidado-personal\\u002f123.0\",\"lacteos\\u002f0.0\",\"instantaneos-y-sopas\\u002f0.0\",\"comidas-preparadas\\u002f0.0\",\"belleza-y-cuidado-personal\\u002f29.29\",\"lacteos\\u002f0.0\",\"lacteos\\u002f0.0\",\"lacteos\\u002f0.0\",\"congelados\\u002f0.0\",\"instantaneos-y-sopas\\u002f0.0\",\"congelados\\u002f77.0\",\"lacteos\\u002f0.0\",\"lacteos\\u002f0.0\",\"belleza-y-cuidado-personal\\u002f0.0\",\"congelados\\u002f88.0\",\"belleza-y-cuidado-personal\\u002f41.0\",\"verduras\\u002f0.0\",\"belleza-y-cuidado-personal\\u002f0.0\",\"lacteos\\u002f0.0\",\"belleza-y-cuidado-personal\\u002f123.0\",\"instantaneos-y-sopas\\u002f0.0\",\"belleza-y-cuidado-personal\\u002f0.0\",\"congelados\\u002f0.0\",\"instantaneos-y-sopas\\u002f0.0\",\"belleza-y-cuidado-personal\\u002f0.0\",\"congelados\\u002f0.0\",\"instantaneos-y-sopas\\u002f0.0\",\"lacteos\\u002f0.0\",\"belleza-y-cuidado-personal\\u002f0.0\",\"instantaneos-y-sopas\\u002f0.0\",\"lacteos\\u002f0.0\",\"lacteos\\u002f4.35\",\"lacteos\\u002f3.4\",\"belleza-y-cuidado-personal\\u002f51.25\",\"belleza-y-cuidado-personal\\u002f123.0\",\"belleza-y-cuidado-personal\\u002f22.36\",\"congelados\\u002f154.0\",\"congelados\\u002f0.0\",\"congelados\\u002f23.1\",\"lacteos\\u002f12.75\",\"congelados\\u002f154.0\",\"congelados\\u002f154.0\",\"lacteos\\u002f0.0\",\"congelados\\u002f0.0\",\"belleza-y-cuidado-personal\\u002f41.0\",\"lacteos\\u002f0.0\",\"comidas-preparadas\\u002f0.0\",\"belleza-y-cuidado-personal\\u002f41.0\",\"belleza-y-cuidado-personal\\u002f41.0\",\"belleza-y-cuidado-personal\\u002f0.0\",\"congelados\\u002f0.0\",\"lacteos\\u002f11.33\",\"belleza-y-cuidado-personal\\u002f0.0\",\"belleza-y-cuidado-personal\\u002f0.0\",\"lacteos\\u002f2.38\",\"lacteos\\u002f0.0\",\"instantaneos-y-sopas\\u002f0.0\",\"lacteos\\u002f0.0\",\"congelados\\u002f154.0\",\"lacteos\\u002f17.0\",\"lacteos\\u002f0.0\",\"lacteos\\u002f0.0\",\"belleza-y-cuidado-personal\\u002f0.0\",\"belleza-y-cuidado-personal\\u002f82.0\",\"comidas-preparadas\\u002f17.2\",\"belleza-y-cuidado-personal\\u002f105.43\",\"belleza-y-cuidado-personal\\u002f13.67\",\"belleza-y-cuidado-personal\\u002f123.0\",\"lacteos\\u002f0.0\",\"congelados\\u002f0.0\",\"belleza-y-cuidado-personal\\u002f0.0\",\"lacteos\\u002f0.0\",\"congelados\\u002f154.0\",\"lacteos\\u002f0.0\",\"belleza-y-cuidado-personal\\u002f0.0\",\"belleza-y-cuidado-personal\\u002f123.0\",\"frutas\\u002f0.0\",\"comidas-preparadas\\u002f0.0\",\"lacteos\\u002f4.67\",\"lacteos\\u002f0.0\",\"belleza-y-cuidado-personal\\u002f0.0\",\"congelados\\u002f0.0\",\"congelados\\u002f0.0\",\"lacteos\\u002f8.5\",\"lacteos\\u002f0.0\",\"lacteos\\u002f0.0\",\"belleza-y-cuidado-personal\\u002f0.0\",\"congelados\\u002f0.0\",\"instantaneos-y-sopas\\u002f0.0\",\"belleza-y-cuidado-personal\\u002f0.0\",\"congelados\\u002f0.0\",\"belleza-y-cuidado-personal\\u002f123.0\",\"belleza-y-cuidado-personal\\u002f0.0\",\"congelados\\u002f0.0\",\"belleza-y-cuidado-personal\\u002f123.0\",\"congelados\\u002f0.0\",\"congelados\\u002f101.06\",\"belleza-y-cuidado-personal\\u002f61.5\",\"lacteos\\u002f0.0\",\"lacteos\\u002f0.0\",\"comidas-preparadas\\u002f0.0\",\"congelados\\u002f0.0\",\"lacteos\\u002f0.0\",\"belleza-y-cuidado-personal\\u002f123.0\",\"belleza-y-cuidado-personal\\u002f123.0\",\"belleza-y-cuidado-personal\\u002f123.0\",\"belleza-y-cuidado-personal\\u002f123.0\",\"belleza-y-cuidado-personal\\u002f0.0\",\"belleza-y-cuidado-personal\\u002f123.0\",\"congelados\\u002f0.0\",\"lacteos\\u002f0.0\",\"congelados\\u002f38.5\",\"congelados\\u002f0.0\",\"lacteos\\u002f0.0\",\"congelados\\u002f77.0\",\"comidas-preparadas\\u002f0.0\",\"instantaneos-y-sopas\\u002f0.0\",\"lacteos\\u002f0.0\",\"lacteos\\u002f8.5\",\"comidas-preparadas\\u002f0.0\",\"lacteos\\u002f0.0\",\"lacteos\\u002f0.0\",\"congelados\\u002f154.0\",\"congelados\\u002f0.0\",\"belleza-y-cuidado-personal\",\"comidas-preparadas\",\"congelados\",\"frutas\",\"instantaneos-y-sopas\",\"lacteos\",\"verduras\",\"lacteos\",\"lacteos\",\"lacteos\",\"lacteos\",\"lacteos\",\"lacteos\",\"lacteos\",\"lacteos\",\"comidas-preparadas\",\"lacteos\",\"belleza-y-cuidado-personal\",\"lacteos\",\"lacteos\",\"belleza-y-cuidado-personal\",\"lacteos\",\"comidas-preparadas\",\"belleza-y-cuidado-personal\",\"congelados\",\"belleza-y-cuidado-personal\",\"belleza-y-cuidado-personal\",\"congelados\",\"congelados\",\"belleza-y-cuidado-personal\",\"belleza-y-cuidado-personal\",\"belleza-y-cuidado-personal\",\"congelados\",\"belleza-y-cuidado-personal\",\"congelados\",\"belleza-y-cuidado-personal\",\"congelados\",\"belleza-y-cuidado-personal\",\"congelados\",\"belleza-y-cuidado-personal\",\"belleza-y-cuidado-personal\",\"congelados\",\"\",\"\",\"\",\"\",\"\",\"\",\"\"],\"values\":[1,1,1,1,1,1,1,1,1,1,1,1,1,1,1,1,1,1,1,1,1,1,1,1,1,1,1,1,1,1,1,1,1,1,1,1,1,1,1,1,1,1,1,1,1,1,1,1,1,1,1,1,1,1,1,1,1,1,1,1,1,1,1,1,1,1,1,1,1,1,1,1,1,1,1,1,1,1,1,1,1,1,1,1,1,1,1,1,1,1,1,1,1,1,1,1,1,1,1,1,1,1,1,1,1,1,1,1,1,1,1,1,1,1,1,1,1,1,1,1,1,1,1,1,1,1,1,1,1,1,1,1,1,1,1,1,1,1,1,1,1,1,1,1,1,1,1,1,1,1,1,1,1,1,1,1,1,1,1,1,1,1,1,1,1,1,1,26,7,19,3,10,35,4,1,1,1,1,1,1,1,1,1,2,1,1,1,1,2,1,1,1,1,1,1,1,5,1,2,1,1,2,2,1,1,1,1,15,6,59,9,33,3,10,49,4],\"type\":\"sunburst\"}],                        {\"template\":{\"data\":{\"histogram2dcontour\":[{\"type\":\"histogram2dcontour\",\"colorbar\":{\"outlinewidth\":0,\"ticks\":\"\"},\"colorscale\":[[0.0,\"#0d0887\"],[0.1111111111111111,\"#46039f\"],[0.2222222222222222,\"#7201a8\"],[0.3333333333333333,\"#9c179e\"],[0.4444444444444444,\"#bd3786\"],[0.5555555555555556,\"#d8576b\"],[0.6666666666666666,\"#ed7953\"],[0.7777777777777778,\"#fb9f3a\"],[0.8888888888888888,\"#fdca26\"],[1.0,\"#f0f921\"]]}],\"choropleth\":[{\"type\":\"choropleth\",\"colorbar\":{\"outlinewidth\":0,\"ticks\":\"\"}}],\"histogram2d\":[{\"type\":\"histogram2d\",\"colorbar\":{\"outlinewidth\":0,\"ticks\":\"\"},\"colorscale\":[[0.0,\"#0d0887\"],[0.1111111111111111,\"#46039f\"],[0.2222222222222222,\"#7201a8\"],[0.3333333333333333,\"#9c179e\"],[0.4444444444444444,\"#bd3786\"],[0.5555555555555556,\"#d8576b\"],[0.6666666666666666,\"#ed7953\"],[0.7777777777777778,\"#fb9f3a\"],[0.8888888888888888,\"#fdca26\"],[1.0,\"#f0f921\"]]}],\"heatmap\":[{\"type\":\"heatmap\",\"colorbar\":{\"outlinewidth\":0,\"ticks\":\"\"},\"colorscale\":[[0.0,\"#0d0887\"],[0.1111111111111111,\"#46039f\"],[0.2222222222222222,\"#7201a8\"],[0.3333333333333333,\"#9c179e\"],[0.4444444444444444,\"#bd3786\"],[0.5555555555555556,\"#d8576b\"],[0.6666666666666666,\"#ed7953\"],[0.7777777777777778,\"#fb9f3a\"],[0.8888888888888888,\"#fdca26\"],[1.0,\"#f0f921\"]]}],\"heatmapgl\":[{\"type\":\"heatmapgl\",\"colorbar\":{\"outlinewidth\":0,\"ticks\":\"\"},\"colorscale\":[[0.0,\"#0d0887\"],[0.1111111111111111,\"#46039f\"],[0.2222222222222222,\"#7201a8\"],[0.3333333333333333,\"#9c179e\"],[0.4444444444444444,\"#bd3786\"],[0.5555555555555556,\"#d8576b\"],[0.6666666666666666,\"#ed7953\"],[0.7777777777777778,\"#fb9f3a\"],[0.8888888888888888,\"#fdca26\"],[1.0,\"#f0f921\"]]}],\"contourcarpet\":[{\"type\":\"contourcarpet\",\"colorbar\":{\"outlinewidth\":0,\"ticks\":\"\"}}],\"contour\":[{\"type\":\"contour\",\"colorbar\":{\"outlinewidth\":0,\"ticks\":\"\"},\"colorscale\":[[0.0,\"#0d0887\"],[0.1111111111111111,\"#46039f\"],[0.2222222222222222,\"#7201a8\"],[0.3333333333333333,\"#9c179e\"],[0.4444444444444444,\"#bd3786\"],[0.5555555555555556,\"#d8576b\"],[0.6666666666666666,\"#ed7953\"],[0.7777777777777778,\"#fb9f3a\"],[0.8888888888888888,\"#fdca26\"],[1.0,\"#f0f921\"]]}],\"surface\":[{\"type\":\"surface\",\"colorbar\":{\"outlinewidth\":0,\"ticks\":\"\"},\"colorscale\":[[0.0,\"#0d0887\"],[0.1111111111111111,\"#46039f\"],[0.2222222222222222,\"#7201a8\"],[0.3333333333333333,\"#9c179e\"],[0.4444444444444444,\"#bd3786\"],[0.5555555555555556,\"#d8576b\"],[0.6666666666666666,\"#ed7953\"],[0.7777777777777778,\"#fb9f3a\"],[0.8888888888888888,\"#fdca26\"],[1.0,\"#f0f921\"]]}],\"mesh3d\":[{\"type\":\"mesh3d\",\"colorbar\":{\"outlinewidth\":0,\"ticks\":\"\"}}],\"scatter\":[{\"fillpattern\":{\"fillmode\":\"overlay\",\"size\":10,\"solidity\":0.2},\"type\":\"scatter\"}],\"parcoords\":[{\"type\":\"parcoords\",\"line\":{\"colorbar\":{\"outlinewidth\":0,\"ticks\":\"\"}}}],\"scatterpolargl\":[{\"type\":\"scatterpolargl\",\"marker\":{\"colorbar\":{\"outlinewidth\":0,\"ticks\":\"\"}}}],\"bar\":[{\"error_x\":{\"color\":\"#2a3f5f\"},\"error_y\":{\"color\":\"#2a3f5f\"},\"marker\":{\"line\":{\"color\":\"#E5ECF6\",\"width\":0.5},\"pattern\":{\"fillmode\":\"overlay\",\"size\":10,\"solidity\":0.2}},\"type\":\"bar\"}],\"scattergeo\":[{\"type\":\"scattergeo\",\"marker\":{\"colorbar\":{\"outlinewidth\":0,\"ticks\":\"\"}}}],\"scatterpolar\":[{\"type\":\"scatterpolar\",\"marker\":{\"colorbar\":{\"outlinewidth\":0,\"ticks\":\"\"}}}],\"histogram\":[{\"marker\":{\"pattern\":{\"fillmode\":\"overlay\",\"size\":10,\"solidity\":0.2}},\"type\":\"histogram\"}],\"scattergl\":[{\"type\":\"scattergl\",\"marker\":{\"colorbar\":{\"outlinewidth\":0,\"ticks\":\"\"}}}],\"scatter3d\":[{\"type\":\"scatter3d\",\"line\":{\"colorbar\":{\"outlinewidth\":0,\"ticks\":\"\"}},\"marker\":{\"colorbar\":{\"outlinewidth\":0,\"ticks\":\"\"}}}],\"scattermapbox\":[{\"type\":\"scattermapbox\",\"marker\":{\"colorbar\":{\"outlinewidth\":0,\"ticks\":\"\"}}}],\"scatterternary\":[{\"type\":\"scatterternary\",\"marker\":{\"colorbar\":{\"outlinewidth\":0,\"ticks\":\"\"}}}],\"scattercarpet\":[{\"type\":\"scattercarpet\",\"marker\":{\"colorbar\":{\"outlinewidth\":0,\"ticks\":\"\"}}}],\"carpet\":[{\"aaxis\":{\"endlinecolor\":\"#2a3f5f\",\"gridcolor\":\"white\",\"linecolor\":\"white\",\"minorgridcolor\":\"white\",\"startlinecolor\":\"#2a3f5f\"},\"baxis\":{\"endlinecolor\":\"#2a3f5f\",\"gridcolor\":\"white\",\"linecolor\":\"white\",\"minorgridcolor\":\"white\",\"startlinecolor\":\"#2a3f5f\"},\"type\":\"carpet\"}],\"table\":[{\"cells\":{\"fill\":{\"color\":\"#EBF0F8\"},\"line\":{\"color\":\"white\"}},\"header\":{\"fill\":{\"color\":\"#C8D4E3\"},\"line\":{\"color\":\"white\"}},\"type\":\"table\"}],\"barpolar\":[{\"marker\":{\"line\":{\"color\":\"#E5ECF6\",\"width\":0.5},\"pattern\":{\"fillmode\":\"overlay\",\"size\":10,\"solidity\":0.2}},\"type\":\"barpolar\"}],\"pie\":[{\"automargin\":true,\"type\":\"pie\"}]},\"layout\":{\"autotypenumbers\":\"strict\",\"colorway\":[\"#636efa\",\"#EF553B\",\"#00cc96\",\"#ab63fa\",\"#FFA15A\",\"#19d3f3\",\"#FF6692\",\"#B6E880\",\"#FF97FF\",\"#FECB52\"],\"font\":{\"color\":\"#2a3f5f\"},\"hovermode\":\"closest\",\"hoverlabel\":{\"align\":\"left\"},\"paper_bgcolor\":\"white\",\"plot_bgcolor\":\"#E5ECF6\",\"polar\":{\"bgcolor\":\"#E5ECF6\",\"angularaxis\":{\"gridcolor\":\"white\",\"linecolor\":\"white\",\"ticks\":\"\"},\"radialaxis\":{\"gridcolor\":\"white\",\"linecolor\":\"white\",\"ticks\":\"\"}},\"ternary\":{\"bgcolor\":\"#E5ECF6\",\"aaxis\":{\"gridcolor\":\"white\",\"linecolor\":\"white\",\"ticks\":\"\"},\"baxis\":{\"gridcolor\":\"white\",\"linecolor\":\"white\",\"ticks\":\"\"},\"caxis\":{\"gridcolor\":\"white\",\"linecolor\":\"white\",\"ticks\":\"\"}},\"coloraxis\":{\"colorbar\":{\"outlinewidth\":0,\"ticks\":\"\"}},\"colorscale\":{\"sequential\":[[0.0,\"#0d0887\"],[0.1111111111111111,\"#46039f\"],[0.2222222222222222,\"#7201a8\"],[0.3333333333333333,\"#9c179e\"],[0.4444444444444444,\"#bd3786\"],[0.5555555555555556,\"#d8576b\"],[0.6666666666666666,\"#ed7953\"],[0.7777777777777778,\"#fb9f3a\"],[0.8888888888888888,\"#fdca26\"],[1.0,\"#f0f921\"]],\"sequentialminus\":[[0.0,\"#0d0887\"],[0.1111111111111111,\"#46039f\"],[0.2222222222222222,\"#7201a8\"],[0.3333333333333333,\"#9c179e\"],[0.4444444444444444,\"#bd3786\"],[0.5555555555555556,\"#d8576b\"],[0.6666666666666666,\"#ed7953\"],[0.7777777777777778,\"#fb9f3a\"],[0.8888888888888888,\"#fdca26\"],[1.0,\"#f0f921\"]],\"diverging\":[[0,\"#8e0152\"],[0.1,\"#c51b7d\"],[0.2,\"#de77ae\"],[0.3,\"#f1b6da\"],[0.4,\"#fde0ef\"],[0.5,\"#f7f7f7\"],[0.6,\"#e6f5d0\"],[0.7,\"#b8e186\"],[0.8,\"#7fbc41\"],[0.9,\"#4d9221\"],[1,\"#276419\"]]},\"xaxis\":{\"gridcolor\":\"white\",\"linecolor\":\"white\",\"ticks\":\"\",\"title\":{\"standoff\":15},\"zerolinecolor\":\"white\",\"automargin\":true,\"zerolinewidth\":2},\"yaxis\":{\"gridcolor\":\"white\",\"linecolor\":\"white\",\"ticks\":\"\",\"title\":{\"standoff\":15},\"zerolinecolor\":\"white\",\"automargin\":true,\"zerolinewidth\":2},\"scene\":{\"xaxis\":{\"backgroundcolor\":\"#E5ECF6\",\"gridcolor\":\"white\",\"linecolor\":\"white\",\"showbackground\":true,\"ticks\":\"\",\"zerolinecolor\":\"white\",\"gridwidth\":2},\"yaxis\":{\"backgroundcolor\":\"#E5ECF6\",\"gridcolor\":\"white\",\"linecolor\":\"white\",\"showbackground\":true,\"ticks\":\"\",\"zerolinecolor\":\"white\",\"gridwidth\":2},\"zaxis\":{\"backgroundcolor\":\"#E5ECF6\",\"gridcolor\":\"white\",\"linecolor\":\"white\",\"showbackground\":true,\"ticks\":\"\",\"zerolinecolor\":\"white\",\"gridwidth\":2}},\"shapedefaults\":{\"line\":{\"color\":\"#2a3f5f\"}},\"annotationdefaults\":{\"arrowcolor\":\"#2a3f5f\",\"arrowhead\":0,\"arrowwidth\":1},\"geo\":{\"bgcolor\":\"white\",\"landcolor\":\"#E5ECF6\",\"subunitcolor\":\"white\",\"showland\":true,\"showlakes\":true,\"lakecolor\":\"white\"},\"title\":{\"x\":0.05},\"mapbox\":{\"style\":\"light\"}}},\"legend\":{\"tracegroupgap\":0},\"title\":{\"text\":\"Relação entre Marcas, Categoria de Produto e Média de Desconto\"}},                        {\"responsive\": true}                    ).then(function(){\n",
              "                            \n",
              "var gd = document.getElementById('5634f0af-c53f-4335-90c1-e92bdc7ff1fe');\n",
              "var x = new MutationObserver(function (mutations, observer) {{\n",
              "        var display = window.getComputedStyle(gd).display;\n",
              "        if (!display || display === 'none') {{\n",
              "            console.log([gd, 'removed!']);\n",
              "            Plotly.purge(gd);\n",
              "            observer.disconnect();\n",
              "        }}\n",
              "}});\n",
              "\n",
              "// Listen for the removal of the full notebook cells\n",
              "var notebookContainer = gd.closest('#notebook-container');\n",
              "if (notebookContainer) {{\n",
              "    x.observe(notebookContainer, {childList: true});\n",
              "}}\n",
              "\n",
              "// Listen for the clearing of the current output cell\n",
              "var outputEl = gd.closest('.output');\n",
              "if (outputEl) {{\n",
              "    x.observe(outputEl, {childList: true});\n",
              "}}\n",
              "\n",
              "                        })                };                            </script>        </div>\n",
              "</body>\n",
              "</html>"
            ]
          },
          "metadata": {}
        }
      ]
    }
  ]
}